{
 "cells": [
  {
   "cell_type": "code",
   "execution_count": 66,
   "id": "b9f25369",
   "metadata": {},
   "outputs": [],
   "source": [
    "import numpy as np\n",
    "import pandas as pd\n",
    "import matplotlib.pyplot as plt"
   ]
  },
  {
   "cell_type": "markdown",
   "id": "b600f9a8",
   "metadata": {},
   "source": [
    "\n",
    "<p><div class=\"text-justify\"> Для определения градиента температуры по толщине смазочного слоя рассмотрим краевую задачу на основе одномерного уравнения теплопроводности с применением численного метода. Пусть температура в направлении Ox считается постоянной, при допущении, что теплофизические характеристики не зависят от температуры. <div></p>"
   ]
  },
  {
   "cell_type": "markdown",
   "id": "0eee1523",
   "metadata": {},
   "source": [
    "Дифференциальное уравнение теплопроводности Фурье примет следующий вид:\n",
    "     $$ \\frac{\\partial \\theta}{\\partial t} =  a\\frac{\\partial ^ 2 \\theta}{\\partial z ^ 2}, (a = const > 0),(1)$$\n",
    "где $\\theta$ – температура смазочного слоя, a – температуропроводность смазочного слоя."
   ]
  },
  {
   "cell_type": "markdown",
   "id": "0f60b190",
   "metadata": {},
   "source": [
    "Начальные и граничные условия запишутся следующим образом:\n",
    " $$ t = 0:\\theta(z,0) = 0,  0 > z > H; (2)$$\n",
    " $$ z = 0: -\\lambda \\frac{\\partial \\theta}{\\partial z} =  \\alpha \\tau v_{0} (1 -\\frac{z}{H}),  t > 0; (3)$$\n",
    " $$ z = H: \\theta(\\infty,t) = 20, (3)$$\n",
    " \n",
    "где $\\alpha$ – коэффициент распределения теплоты между смазкой и вращающейся со скоростью $v_{0}$ поверхности, $\\lambda$ - теплопроводность смазочного слоя, H - зазор, $\\tau$ - напряжение сдвига смазочного слоя. "
   ]
  },
  {
   "cell_type": "markdown",
   "id": "a3479246",
   "metadata": {},
   "source": [
    "Были выбраны следующие режимы работы пары трения: коэффициент распределения теплоты между смазкой составляет 0.5, скорость скольжения 0.266 м/с, зазор между образцами  - $2 \\cdot 10 ^ {-6}$, нагрузка на образец варьируется от 72 до 200 Н. Амплитуда перемещения составляет 80 мм.Теплофизические свойства смазочного материала: $\\rho$=911 $\\frac{кг}{м^3}$, $c = 2037 \\frac{Дж}{кг\\cdot\\circ С}$. Теплопроводность моторного масла $\\lambda_{м.м.}$ составляет 0.134 $\\frac{Вт}{м\\cdot\\circ С}$, теплопроводность фуллерена $С_{60}$ - 0,2 $\\frac{Вт}{м\\cdot\\circ С}$. Концентрация фуллерена $\\varphi$ в моторном масле изменяется от 0,1 до 2.  Продолжительность одного испытания составляет 1 час. "
   ]
  },
  {
   "cell_type": "markdown",
   "id": "1ea5675c",
   "metadata": {},
   "source": [
    "Теплопроводность смазочной композиции с фуллеренами $\\lambda$ вычислим следующим образом:\n",
    "$$\\lambda = \\lambda_{м.м.}+ \\lambda_{С_{60}} \\cdot \\varphi, (4)$$\n",
    "где $\\lambda_{м.м.}$ - теплопроводность моторного масла, теплопроводность фуллерена $С_{60}$, $\\varphi$ - концентрация фуллерена $С_{60}$ в моторном масле."
   ]
  },
  {
   "cell_type": "code",
   "execution_count": 36,
   "id": "88311f14",
   "metadata": {},
   "outputs": [],
   "source": [
    "DISTANCE_TRAVELLED = 0.08 \n",
    "N = 500 \n",
    "MF = 500\n",
    "ALFA_COEF = 0.5\n",
    "SPEED = 0.266\n",
    "H = 2e-6\n",
    "Z = 1.9e-6\n",
    "TIME = 3600\n",
    "C = 2037\n",
    "RO = 911\n",
    "AREA = 6.4e-04"
   ]
  },
  {
   "cell_type": "markdown",
   "id": "9fdc1e21",
   "metadata": {},
   "source": [
    "Для численного решения задачи разобьем смазку по толщине на $N-1$ равных промежутков, т.е. построим конечно-разностную сетку (рис. 1):\n",
    "  <img src=\"2.png\" width=\"300\">\n",
    "<center>Рисунок – 1. Конечно–разностная сетка:\n",
    "$z_{2},z_{3},…,z_{N-1}$ – координаты внутренних узлов; $z_{1},z_{N}$ – координаты граничных узлов\n"
   ]
  },
  {
   "cell_type": "markdown",
   "id": "fd6062ab",
   "metadata": {},
   "source": [
    "Определим значение температуры в $i$ – ом узле в момент времени $t = t_{n} = n \\cdot k$ как $\\theta(z_{i},t_{n} )=\\theta_{i}^n.$ Здесь $k$ – шаг интегрирования по временной координате,   – номер шага по времени.\n",
    "Далее заменим дифференциальные операторы в (1) на их конечно – разностные аналоги. Будем пользоваться неявной схемой:\n"
   ]
  },
  {
   "cell_type": "markdown",
   "id": "83245553",
   "metadata": {},
   "source": [
    "Далее заменим дифференциальные операторы в (1) на их конечно – разностные аналоги. Будем пользоваться неявной схемой:\n",
    "$$ \\frac{\\partial \\theta}{\\partial t} = \\frac{\\theta_{i}^ {n+1} - \\theta_{i}^ {n}}{k},$$\n",
    "$$ \\frac{\\partial ^ 2 \\theta}{\\partial z ^ 2} = \\frac{\\theta_{i+1}^ {n+1} - \\theta_{i}^ {n+1} + \\theta_{i-1}^ {n+1}}{h ^ 2}, (5)$$\n"
   ]
  },
  {
   "cell_type": "markdown",
   "id": "d9bb24db",
   "metadata": {},
   "source": [
    "В результате аппроксимации частных производных соответствующими конечными разностями получаем следующую систему линейных алгебраических уравнений (СЛАУ):"
   ]
  },
  {
   "cell_type": "markdown",
   "id": "19e9512f",
   "metadata": {},
   "source": [
    "$$\\rho c \\frac{\\theta_{i}^ {n+1} - \\theta_{i}^ {n}}{k} = \\lambda (\\frac{\\theta_{i+1}^ {n+1} - \\theta_{i}^ {n+1} + \\theta_{i-1}^ {n+1}}{h ^ 2}), i = 2,...,N-1, n\\geq0.  (6)  $$ "
   ]
  },
  {
   "cell_type": "markdown",
   "id": "93ebf174",
   "metadata": {},
   "source": [
    "Полученную систему можно свести к наиболее общему виду:"
   ]
  },
  {
   "cell_type": "markdown",
   "id": "c71560de",
   "metadata": {},
   "source": [
    "$$ A_{i}\\theta_{i+1}^ {n+1} - B_{i}\\theta_{i}^ {n+1} + C_{i}\\theta_{i-1}^ {n+1} = F_{i}, (7)$$\n",
    "где $A_{i} = C_{i} =\\frac{\\lambda}{h^2}$, $B_{i} = 2\\frac{\\lambda}{h^2} + \\frac{\\rho c}{k}$, $F_{i} = -\\frac{\\rho c}{k}\\theta_{i}^ {n} $. "
   ]
  },
  {
   "cell_type": "markdown",
   "id": "37b1cb02",
   "metadata": {},
   "source": [
    "Уравнения (7) называются трехточными разностными уравнениями второго порядка. Система (7) имеет трехдиагональную структуру, поэтому рассматриваем нестационарную задачу. Такую систему необходимо решать на каждом шаге по времени. \n",
    "Предположим, что существуют такие наборы чисел $ \\alpha_{i}$ и $\\beta_{i}$ $(i = \\overline{1,N-1}),$ при которых \n",
    "\n",
    "$$\\theta_{i}^ {n+1} =  \\alpha_{i}\\theta_{i+1}^ {n+1} + \\beta_{i}, (8)$$"
   ]
  },
  {
   "cell_type": "markdown",
   "id": "5c0f798b",
   "metadata": {},
   "source": [
    "т.е. система уравнений (7) преобразуется в двухточечное уравнение первого порядка (8). Выражение (8) подставив в уравнение (7) получаем: \n",
    "$$\\theta_{i}^ {n+1} = \\frac{A_{i}}{B_{i} - C_{i}\\alpha_{i-1}}\\theta_{i+1}^ {n+1} + \\frac{C_{i}\\beta_{i-1} - F_{i}}{B_{i} - C_{i}\\alpha_{i-1}}. (9)$$"
   ]
  },
  {
   "cell_type": "markdown",
   "id": "468169ef",
   "metadata": {},
   "source": [
    "Последнее равенство имеет вид (9), если при $i=2,3,…,N-1$ всех выполняются соотношения \n",
    "$$\\alpha_{i} = \\frac{A_{i}}{B_{i} - C_{i}\\alpha_{i-1}},  \\beta_{i} = \\frac{C_{i}\\beta_{i-1} - F_{i}}{B_{i} - C_{i}\\alpha_{i-1}}. (10)$$"
   ]
  },
  {
   "cell_type": "markdown",
   "id": "246272b9",
   "metadata": {},
   "source": [
    "Для определения $\\alpha_{i}$ и $\\beta_{i}$ по (10) необходимо знать $\\alpha_{1}$ и $\\alpha_{1}$, которые находятся из левого граничного условия.\n",
    "Разложим функцию $\\theta(z)$ в ряд Тейлора в окрестности точки $z=0$ до членов второго порядка относительно $h$:\n",
    "\n",
    "$$\\theta_{2}^ {n+1} =  \\theta_{1}^ {n+1} + h\\frac{\\partial\\theta}{\\partial z}\\bigg|_{z=0}^{n+1} + h^2\\frac{\\partial ^ 2 \\theta}{\\partial z ^ 2}\\bigg|_{z=0}^{n+1}.    $$"
   ]
  },
  {
   "cell_type": "markdown",
   "id": "cab2fc4b",
   "metadata": {},
   "source": [
    "Используя соотношение (1) получим:\n",
    "$$\\theta_{2}^ {n+1} =  \\theta_{1}^ {n+1} + h\\frac{\\partial\\theta}{\\partial z}\\bigg|_{z=0}^{n+1} + \\frac{h^2}{2a}\\frac{\\partial \\theta}{\\partial t}\\bigg|_{z=0}^{n+1};    $$\n",
    "$$\\frac{\\partial\\theta}{\\partial z}\\bigg|_{z=0}^{n+1} = \\frac{1}{h} \\theta_{2}^ {n+1} - \\theta_{1}^ {n+1} - \\frac{h}{2a}\\frac{\\partial \\theta}{\\partial t}\\bigg|_{z=0}^{n+1} =  \\frac{\\alpha \\tau v_{0}}{\\lambda} (1 -\\frac{z}{H}).   $$"
   ]
  },
  {
   "cell_type": "markdown",
   "id": "0c0d0915",
   "metadata": {},
   "source": [
    "Тогда $$\\theta_{1}^ {n+1} = \\frac{2ak}{2ak+h^2}\\theta_{2}^ {n+1} + \\frac{h^2}{2ak+h^2}\\theta_{1}^ {n} + \\frac{2\\alpha \\tau v_{0}hak}{\\lambda(2ak+h^2)} (1 -\\frac{z}{H}). $$"
   ]
  },
  {
   "cell_type": "markdown",
   "id": "fa3fbeea",
   "metadata": {},
   "source": [
    "Таким образом,\n",
    "$$\\alpha_{1} = \\frac{2ak}{2ak+h^2},$$\n",
    "$$\\beta_{1} = \\frac{h^2}{2ak+h^2}\\theta_{1}^ {n} + \\frac{2\\alpha \\tau v_{0}hak}{\\lambda(2ak+h^2)} (1 -\\frac{z}{H}).$$"
   ]
  },
  {
   "cell_type": "markdown",
   "id": "4c62a7ff",
   "metadata": {},
   "source": [
    "На правой границе температура $$\\theta|_{z=H} = 20. $$"
   ]
  },
  {
   "cell_type": "code",
   "execution_count": 59,
   "id": "55ae39d3",
   "metadata": {},
   "outputs": [],
   "source": [
    "def grad_temperature(concentration, force):\n",
    "    tau_tau = force / AREA\n",
    "    lamda = 0.134 + 0.2 * concentration\n",
    "    a = lamda / (C * RO)\n",
    "    h = DISTANCE_TRAVELLED / (10 * (N - 1))\n",
    "    tau = TIME / 100.0\n",
    "# ==========\n",
    "    T = np.ones(MF) \n",
    "    alfa = np.zeros(MF)\n",
    "    beta = np.zeros(MF)\n",
    "    T[0] = 0\n",
    "    t = 0\n",
    "    while t < T_END:\n",
    "        alfa[0] = (2 * a * tau)/(2 * a * tau + h * h)\n",
    "        beta[0] = (h*h*T[0])/(2*a*tau+h*h)+(2*a*tau_tau*h*ALFA_COEF*SPEED*tau*(1-Z / H))/(lamda*(2*a*tau+h*h))\n",
    "        for i in range(1, N-2):\n",
    "            ai = lamda / (h * h)\n",
    "            ci = lamda / (h * h)\n",
    "            bi = 2 * lamda / (h * h) + C * RO / tau\n",
    "            fi = - C * RO * T[i] / tau\n",
    "            alfa[i] = ai / (bi - ci * alfa[i - 1])\n",
    "            beta[i] = (ci * beta[i-1] - fi) / (bi - ci * alfa[i-1])\n",
    "        T[N-1] = 20\n",
    "        for i in range (N-2, 0, -1):\n",
    "            T[i] = alfa[i] * T[i+1] + beta[i]\n",
    "        t = t + tau\n",
    "    return np.mean(T)"
   ]
  },
  {
   "cell_type": "code",
   "execution_count": 83,
   "id": "0d6503b9",
   "metadata": {},
   "outputs": [
    {
     "name": "stdout",
     "output_type": "stream",
     "text": [
      "16\n",
      "16\n",
      "16\n",
      "16\n"
     ]
    }
   ],
   "source": [
    "concentration = [0.1, 0.2, 0.3, 0.4, 0.5, 0.6, 0.7, 0.8, 0.9, 1, 1.2, 1.4, 1.6, 1.8, 1.9, 2]\n",
    "force = [72, 112, 200]\n",
    "df_1 = []\n",
    "df_2 = []\n",
    "df_3 = []\n",
    "for j in concentration:\n",
    "        #print('concentration = ', j, '%', 'force = ', i, 'Н')\n",
    "    df_1.append(grad_temperature(j, 72))\n",
    "    df_2.append(grad_temperature(j, 112))\n",
    "    df_3.append(grad_temperature(j, 200))    \n",
    "print(len(concentration))\n",
    "print(len(df_1))\n",
    "print(len(df_2))\n",
    "print(len(df_3))"
   ]
  },
  {
   "cell_type": "code",
   "execution_count": 85,
   "id": "8bfbd435",
   "metadata": {},
   "outputs": [
    {
     "data": {
      "text/html": [
       "<div>\n",
       "<style scoped>\n",
       "    .dataframe tbody tr th:only-of-type {\n",
       "        vertical-align: middle;\n",
       "    }\n",
       "\n",
       "    .dataframe tbody tr th {\n",
       "        vertical-align: top;\n",
       "    }\n",
       "\n",
       "    .dataframe thead th {\n",
       "        text-align: right;\n",
       "    }\n",
       "</style>\n",
       "<table border=\"1\" class=\"dataframe\">\n",
       "  <thead>\n",
       "    <tr style=\"text-align: right;\">\n",
       "      <th></th>\n",
       "      <th>Concentration</th>\n",
       "      <th>Temperature (force = 72 H)</th>\n",
       "      <th>Temperature (force = 112 H)</th>\n",
       "      <th>Temperature (force = 200 H)</th>\n",
       "    </tr>\n",
       "  </thead>\n",
       "  <tbody>\n",
       "    <tr>\n",
       "      <th>0</th>\n",
       "      <td>0.1</td>\n",
       "      <td>18.911964</td>\n",
       "      <td>29.396382</td>\n",
       "      <td>52.462101</td>\n",
       "    </tr>\n",
       "    <tr>\n",
       "      <th>1</th>\n",
       "      <td>0.2</td>\n",
       "      <td>16.783312</td>\n",
       "      <td>26.085151</td>\n",
       "      <td>46.549195</td>\n",
       "    </tr>\n",
       "    <tr>\n",
       "      <th>2</th>\n",
       "      <td>0.3</td>\n",
       "      <td>15.086101</td>\n",
       "      <td>23.445046</td>\n",
       "      <td>41.834724</td>\n",
       "    </tr>\n",
       "    <tr>\n",
       "      <th>3</th>\n",
       "      <td>0.4</td>\n",
       "      <td>13.701282</td>\n",
       "      <td>21.290883</td>\n",
       "      <td>37.988005</td>\n",
       "    </tr>\n",
       "    <tr>\n",
       "      <th>4</th>\n",
       "      <td>0.5</td>\n",
       "      <td>12.549886</td>\n",
       "      <td>19.499823</td>\n",
       "      <td>34.789684</td>\n",
       "    </tr>\n",
       "    <tr>\n",
       "      <th>5</th>\n",
       "      <td>0.6</td>\n",
       "      <td>11.577486</td>\n",
       "      <td>17.987201</td>\n",
       "      <td>32.088573</td>\n",
       "    </tr>\n",
       "    <tr>\n",
       "      <th>6</th>\n",
       "      <td>0.7</td>\n",
       "      <td>10.745353</td>\n",
       "      <td>16.692772</td>\n",
       "      <td>29.777092</td>\n",
       "    </tr>\n",
       "    <tr>\n",
       "      <th>7</th>\n",
       "      <td>0.8</td>\n",
       "      <td>10.025179</td>\n",
       "      <td>15.572501</td>\n",
       "      <td>27.776609</td>\n",
       "    </tr>\n",
       "    <tr>\n",
       "      <th>8</th>\n",
       "      <td>0.9</td>\n",
       "      <td>9.395793</td>\n",
       "      <td>14.593456</td>\n",
       "      <td>26.028314</td>\n",
       "    </tr>\n",
       "    <tr>\n",
       "      <th>9</th>\n",
       "      <td>1.0</td>\n",
       "      <td>8.841045</td>\n",
       "      <td>13.730515</td>\n",
       "      <td>24.487348</td>\n",
       "    </tr>\n",
       "    <tr>\n",
       "      <th>10</th>\n",
       "      <td>1.2</td>\n",
       "      <td>7.907988</td>\n",
       "      <td>12.279092</td>\n",
       "      <td>21.895521</td>\n",
       "    </tr>\n",
       "    <tr>\n",
       "      <th>11</th>\n",
       "      <td>1.4</td>\n",
       "      <td>7.153805</td>\n",
       "      <td>11.105919</td>\n",
       "      <td>19.800570</td>\n",
       "    </tr>\n",
       "    <tr>\n",
       "      <th>12</th>\n",
       "      <td>1.6</td>\n",
       "      <td>6.531560</td>\n",
       "      <td>10.137982</td>\n",
       "      <td>18.072111</td>\n",
       "    </tr>\n",
       "    <tr>\n",
       "      <th>13</th>\n",
       "      <td>1.8</td>\n",
       "      <td>6.009414</td>\n",
       "      <td>9.325756</td>\n",
       "      <td>16.621707</td>\n",
       "    </tr>\n",
       "    <tr>\n",
       "      <th>14</th>\n",
       "      <td>1.9</td>\n",
       "      <td>5.778623</td>\n",
       "      <td>8.966747</td>\n",
       "      <td>15.980619</td>\n",
       "    </tr>\n",
       "    <tr>\n",
       "      <th>15</th>\n",
       "      <td>2.0</td>\n",
       "      <td>5.565013</td>\n",
       "      <td>8.634464</td>\n",
       "      <td>15.387258</td>\n",
       "    </tr>\n",
       "  </tbody>\n",
       "</table>\n",
       "</div>"
      ],
      "text/plain": [
       "    Concentration  Temperature (force = 72 H)  Temperature (force = 112 H)  \\\n",
       "0             0.1                   18.911964                    29.396382   \n",
       "1             0.2                   16.783312                    26.085151   \n",
       "2             0.3                   15.086101                    23.445046   \n",
       "3             0.4                   13.701282                    21.290883   \n",
       "4             0.5                   12.549886                    19.499823   \n",
       "5             0.6                   11.577486                    17.987201   \n",
       "6             0.7                   10.745353                    16.692772   \n",
       "7             0.8                   10.025179                    15.572501   \n",
       "8             0.9                    9.395793                    14.593456   \n",
       "9             1.0                    8.841045                    13.730515   \n",
       "10            1.2                    7.907988                    12.279092   \n",
       "11            1.4                    7.153805                    11.105919   \n",
       "12            1.6                    6.531560                    10.137982   \n",
       "13            1.8                    6.009414                     9.325756   \n",
       "14            1.9                    5.778623                     8.966747   \n",
       "15            2.0                    5.565013                     8.634464   \n",
       "\n",
       "    Temperature (force = 200 H)  \n",
       "0                     52.462101  \n",
       "1                     46.549195  \n",
       "2                     41.834724  \n",
       "3                     37.988005  \n",
       "4                     34.789684  \n",
       "5                     32.088573  \n",
       "6                     29.777092  \n",
       "7                     27.776609  \n",
       "8                     26.028314  \n",
       "9                     24.487348  \n",
       "10                    21.895521  \n",
       "11                    19.800570  \n",
       "12                    18.072111  \n",
       "13                    16.621707  \n",
       "14                    15.980619  \n",
       "15                    15.387258  "
      ]
     },
     "execution_count": 85,
     "metadata": {},
     "output_type": "execute_result"
    }
   ],
   "source": [
    "d = {\n",
    "    'Concentration': concentration,\n",
    "    'Temperature (force = 72 H)': df_1,\n",
    "    'Temperature (force = 112 H)': df_2,\n",
    "    'Temperature (force = 200 H)': df_3\n",
    "}\n",
    "data = pd.DataFrame(data=d)\n",
    "data"
   ]
  },
  {
   "cell_type": "code",
   "execution_count": 87,
   "id": "30b0cefb",
   "metadata": {},
   "outputs": [
    {
     "data": {
      "image/png": "[encoded data removed]",
      "text/plain": [
       "<Figure size 640x480 with 1 Axes>"
      ]
     },
     "metadata": {},
     "output_type": "display_data"
    }
   ],
   "source": [
    "plt.plot(data['Concentration'], data['Temperature (force = 72 H)'], label='72 H');\n",
    "plt.plot(data['Concentration'], data['Temperature (force = 112 H)'], label='112 H');\n",
    "plt.plot(data['Concentration'], data['Temperature (force = 200 H)'], label='200 H');\n",
    "plt.title('Рис. 2 Зависимость температуры \\n от концентрации фуллеренов в смазочной композиции')\n",
    "plt.xlabel('Концентрация фуллеренов')\n",
    "plt.ylabel('Температура смазочного слоя')\n",
    "plt.legend();\n",
    "    "
   ]
  }
 ],
 "metadata": {
  "kernelspec": {
   "display_name": "Python 3 (ipykernel)",
   "language": "python",
   "name": "python3"
  },
  "language_info": {
   "codemirror_mode": {
    "name": "ipython",
    "version": 3
   },
   "file_extension": ".py",
   "mimetype": "text/x-python",
   "name": "python",
   "nbconvert_exporter": "python",
   "pygments_lexer": "ipython3",
   "version": "3.9.13"
  }
 },
 "nbformat": 4,
 "nbformat_minor": 5
}
