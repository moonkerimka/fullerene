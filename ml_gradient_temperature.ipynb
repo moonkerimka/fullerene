{
 "cells": [
  {
   "cell_type": "markdown",
   "id": "1e51b2b8",
   "metadata": {},
   "source": [
    "### <p style=\"font-family:JetBrains Mono; font-weight:bold; letter-spacing: 2px; color:#294B8E; font-size:140%; text-align:left;padding: 0px; border-bottom: 3px solid #294B8E\"> ML</p>"
   ]
  },
  {
   "cell_type": "markdown",
   "id": "11a717ef",
   "metadata": {},
   "source": [
    "<a id=\"1.2\"></a>\n",
    "<div style=\"padding:20px;\n",
    "            color:white;\n",
    "            margin:10;\n",
    "            font-size:170%;\n",
    "            text-align:left;\n",
    "            display:fill;\n",
    "            border-radius:5px;\n",
    "            background-color:#294B8E;\n",
    "            overflow:hidden;\n",
    "            font-weight:700\"><span style='color:#CDA63A'>|</span> Content</div>"
   ]
  },
  {
   "cell_type": "markdown",
   "id": "a915f679",
   "metadata": {},
   "source": [
    "<div class=\"toc\"><ul class=\"toc-item\"><li><span><a href=\"#Loading-libraries\" data-toc-modified-id=\"Loading-libraries-2\"><span class=\"toc-item-num\">1&nbsp;&nbsp;</span>Loading libraries</a></span></li><li><span><a href=\"#EDA\" data-toc-modified-id=\"EDA-3\"><span class=\"toc-item-num\">2&nbsp;&nbsp;</span>EDA</a></span></li><li><span><a href=\"#Data-preprocessing\" data-toc-modified-id=\"Data-preprocessing-4\"><span class=\"toc-item-num\">3&nbsp;&nbsp;</span>Data preprocessing</a></span></li><li><span><a href=\"#Prepare_samples_for_training_models\" data-toc-modified-id=\"Prepare-samples-for-training-models-4\"><span class=\"toc-item-num\">4&nbsp;&nbsp;</span>Prepare samples for training models</a></span></li><li><span><a href=\"#Standardization\" data-toc-modified-id=\"Standardization-5\"><span class=\"toc-item-num\">5&nbsp;&nbsp;</span>Standardization</a></span></li><li><span><a href=\"#Model-Training\" data-toc-modified-id=\"Model-Training-6\"><span class=\"toc-item-num\">6&nbsp;&nbsp;</span>Model Training</a></span></li><li><span><a href=\"#Model-comparison\" data-toc-modified-id=\"Model-comparison-7\"><span class=\"toc-item-num\">7&nbsp;&nbsp;</span>Model-comparison</a></span></li><li><span><a href=\"#Сomparison-of-theoretical,-experimental-and-predicted-data\" data-toc-modified-id=\"Сomparison-of-theoretical,-experimental-and-predicted-data-8\"><span class=\"toc-item-num\">8&nbsp;&nbsp;</span>Сomparison of theoretical, experimental and predicted data</a></span></li>"
   ]
  },
  {
   "cell_type": "markdown",
   "id": "a37d8f76",
   "metadata": {},
   "source": [
    "<a id=\"Loading-libraries\"></a>\n",
    "<div style=\"padding:20px;\n",
    "            color:white;\n",
    "            margin:10;\n",
    "            font-size:170%;\n",
    "            text-align:left;\n",
    "            display:fill;\n",
    "            border-radius:5px;\n",
    "            background-color:#294B8E;\n",
    "            overflow:hidden;\n",
    "            font-weight:700\"><span style='color:#CDA63A'>|</span> Loading libraries</div>"
   ]
  },
  {
   "cell_type": "code",
   "execution_count": 1,
   "id": "2432922a",
   "metadata": {},
   "outputs": [],
   "source": [
    "import os\n",
    "import json\n",
    "import numpy as np\n",
    "import pandas as pd\n",
    "import matplotlib.pyplot as plt\n",
    "from sklearn.model_selection import train_test_split\n",
    "from sklearn.tree import DecisionTreeClassifier\n",
    "from sklearn.ensemble import RandomForestClassifier\n",
    "from sklearn.linear_model import LinearRegression\n",
    "from catboost import CatBoostRegressor\n",
    "from xgboost import XGBRegressor\n",
    "from lightgbm import LGBMRegressor\n",
    "from sklearn.preprocessing import StandardScaler\n",
    "from sklearn.metrics import mean_squared_error,accuracy_score\n",
    "from tqdm import tqdm\n",
    "from math import sqrt\n",
    "from tabulate import tabulate"
   ]
  },
  {
   "cell_type": "markdown",
   "id": "81578c5d",
   "metadata": {},
   "source": [
    "<a id=\"EDA\"></a>\n",
    "<div style=\"padding:20px;\n",
    "            color:white;\n",
    "            margin:10;\n",
    "            font-size:170%;\n",
    "            text-align:left;\n",
    "            display:fill;\n",
    "            border-radius:5px;\n",
    "            background-color:#294B8E;\n",
    "            overflow:hidden;\n",
    "            font-weight:700\"><span style='color:#CDA63A'>|</span> EDA</div>"
   ]
  },
  {
   "cell_type": "code",
   "execution_count": 2,
   "id": "6b9339a1",
   "metadata": {},
   "outputs": [],
   "source": [
    "data = pd.read_excel('fullerene_experiments.xlsx')"
   ]
  },
  {
   "cell_type": "code",
   "execution_count": 3,
   "id": "ed23b4a0",
   "metadata": {},
   "outputs": [
    {
     "name": "stdout",
     "output_type": "stream",
     "text": [
      "<class 'pandas.core.frame.DataFrame'>\n",
      "RangeIndex: 48 entries, 0 to 47\n",
      "Data columns (total 3 columns):\n",
      " #   Column               Non-Null Count  Dtype  \n",
      "---  ------               --------------  -----  \n",
      " 0   Concentration        48 non-null     float64\n",
      " 1   Force                48 non-null     int64  \n",
      " 2   Average temperature  48 non-null     float64\n",
      "dtypes: float64(2), int64(1)\n",
      "memory usage: 1.2 KB\n"
     ]
    }
   ],
   "source": [
    "data.info()"
   ]
  },
  {
   "cell_type": "code",
   "execution_count": 4,
   "id": "cb5151d4",
   "metadata": {},
   "outputs": [],
   "source": [
    "filename = 'd.json'\n",
    "with open(filename) as f:\n",
    "    r = json.load(f)"
   ]
  },
  {
   "cell_type": "code",
   "execution_count": 5,
   "id": "8d85d810",
   "metadata": {},
   "outputs": [],
   "source": [
    "df = pd.DataFrame({'Temperature_gradient': r})"
   ]
  },
  {
   "cell_type": "markdown",
   "id": "4c818600",
   "metadata": {},
   "source": [
    "<a id=\"Data-preprocessing\"></a>\n",
    "<div style=\"padding:20px;\n",
    "            color:white;\n",
    "            margin:10;\n",
    "            font-size:170%;\n",
    "            text-align:left;\n",
    "            display:fill;\n",
    "            border-radius:5px;\n",
    "            background-color:#294B8E;\n",
    "            overflow:hidden;\n",
    "            font-weight:700\"><span style='color:#CDA63A'>|</span> Data preprocessing</div>"
   ]
  },
  {
   "cell_type": "code",
   "execution_count": 6,
   "id": "899762d3",
   "metadata": {},
   "outputs": [],
   "source": [
    "data['Temperature_gradient'] = df['Temperature_gradient'] "
   ]
  },
  {
   "cell_type": "code",
   "execution_count": 7,
   "id": "f4ad0df4",
   "metadata": {},
   "outputs": [],
   "source": [
    "data['Average temperature'] = data['Average temperature'].astype('int')\n",
    "data['Temperature_gradient'] = data['Temperature_gradient'].astype('int')"
   ]
  },
  {
   "cell_type": "markdown",
   "id": "55a3d698",
   "metadata": {},
   "source": [
    "<a id=\"Prepare-samples-for-training-models\"></a>\n",
    "<div style=\"padding:20px;\n",
    "            color:white;\n",
    "            margin:10;\n",
    "            font-size:170%;\n",
    "            text-align:left;\n",
    "            display:fill;\n",
    "            border-radius:5px;\n",
    "            background-color:#294B8E;\n",
    "            overflow:hidden;\n",
    "            font-weight:700\"><span style='color:#CDA63A'>|</span> Prepare samples for training models</div>"
   ]
  },
  {
   "cell_type": "code",
   "execution_count": 8,
   "id": "2f20f593",
   "metadata": {},
   "outputs": [],
   "source": [
    "features = data.drop(['Average temperature', 'Temperature_gradient'], axis=1)\n",
    "target = data['Average temperature'] "
   ]
  },
  {
   "cell_type": "code",
   "execution_count": 9,
   "id": "f17cc11e",
   "metadata": {},
   "outputs": [],
   "source": [
    "X_train, X_test, y_train, y_test = train_test_split(features, target, \n",
    "                                                    train_size = 0.67, \n",
    "                                                    random_state=42)"
   ]
  },
  {
   "cell_type": "code",
   "execution_count": 10,
   "id": "02f91999",
   "metadata": {},
   "outputs": [
    {
     "data": {
      "text/html": [
       "<div>\n",
       "<style scoped>\n",
       "    .dataframe tbody tr th:only-of-type {\n",
       "        vertical-align: middle;\n",
       "    }\n",
       "\n",
       "    .dataframe tbody tr th {\n",
       "        vertical-align: top;\n",
       "    }\n",
       "\n",
       "    .dataframe thead th {\n",
       "        text-align: right;\n",
       "    }\n",
       "</style>\n",
       "<table border=\"1\" class=\"dataframe\">\n",
       "  <thead>\n",
       "    <tr style=\"text-align: right;\">\n",
       "      <th></th>\n",
       "      <th>Concentration</th>\n",
       "      <th>Force</th>\n",
       "    </tr>\n",
       "  </thead>\n",
       "  <tbody>\n",
       "    <tr>\n",
       "      <th>27</th>\n",
       "      <td>1.0</td>\n",
       "      <td>72</td>\n",
       "    </tr>\n",
       "    <tr>\n",
       "      <th>40</th>\n",
       "      <td>1.8</td>\n",
       "      <td>112</td>\n",
       "    </tr>\n",
       "    <tr>\n",
       "      <th>26</th>\n",
       "      <td>0.9</td>\n",
       "      <td>200</td>\n",
       "    </tr>\n",
       "    <tr>\n",
       "      <th>43</th>\n",
       "      <td>1.9</td>\n",
       "      <td>112</td>\n",
       "    </tr>\n",
       "    <tr>\n",
       "      <th>24</th>\n",
       "      <td>0.9</td>\n",
       "      <td>72</td>\n",
       "    </tr>\n",
       "    <tr>\n",
       "      <th>37</th>\n",
       "      <td>1.6</td>\n",
       "      <td>112</td>\n",
       "    </tr>\n",
       "    <tr>\n",
       "      <th>12</th>\n",
       "      <td>0.5</td>\n",
       "      <td>72</td>\n",
       "    </tr>\n",
       "    <tr>\n",
       "      <th>19</th>\n",
       "      <td>0.7</td>\n",
       "      <td>112</td>\n",
       "    </tr>\n",
       "    <tr>\n",
       "      <th>4</th>\n",
       "      <td>0.2</td>\n",
       "      <td>112</td>\n",
       "    </tr>\n",
       "    <tr>\n",
       "      <th>25</th>\n",
       "      <td>0.9</td>\n",
       "      <td>112</td>\n",
       "    </tr>\n",
       "    <tr>\n",
       "      <th>8</th>\n",
       "      <td>0.3</td>\n",
       "      <td>200</td>\n",
       "    </tr>\n",
       "    <tr>\n",
       "      <th>3</th>\n",
       "      <td>0.2</td>\n",
       "      <td>72</td>\n",
       "    </tr>\n",
       "    <tr>\n",
       "      <th>6</th>\n",
       "      <td>0.3</td>\n",
       "      <td>72</td>\n",
       "    </tr>\n",
       "    <tr>\n",
       "      <th>39</th>\n",
       "      <td>1.8</td>\n",
       "      <td>72</td>\n",
       "    </tr>\n",
       "    <tr>\n",
       "      <th>33</th>\n",
       "      <td>1.4</td>\n",
       "      <td>72</td>\n",
       "    </tr>\n",
       "    <tr>\n",
       "      <th>13</th>\n",
       "      <td>0.5</td>\n",
       "      <td>112</td>\n",
       "    </tr>\n",
       "  </tbody>\n",
       "</table>\n",
       "</div>"
      ],
      "text/plain": [
       "    Concentration  Force\n",
       "27            1.0     72\n",
       "40            1.8    112\n",
       "26            0.9    200\n",
       "43            1.9    112\n",
       "24            0.9     72\n",
       "37            1.6    112\n",
       "12            0.5     72\n",
       "19            0.7    112\n",
       "4             0.2    112\n",
       "25            0.9    112\n",
       "8             0.3    200\n",
       "3             0.2     72\n",
       "6             0.3     72\n",
       "39            1.8     72\n",
       "33            1.4     72\n",
       "13            0.5    112"
      ]
     },
     "execution_count": 10,
     "metadata": {},
     "output_type": "execute_result"
    }
   ],
   "source": [
    "X_test"
   ]
  },
  {
   "cell_type": "markdown",
   "id": "2bfefff8",
   "metadata": {},
   "source": [
    "<a id=\"Standardization\"></a>\n",
    "<div style=\"padding:20px;\n",
    "            color:white;\n",
    "            margin:10;\n",
    "            font-size:170%;\n",
    "            text-align:left;\n",
    "            display:fill;\n",
    "            border-radius:5px;\n",
    "            background-color:#294B8E;\n",
    "            overflow:hidden;\n",
    "            font-weight:700\"><span style='color:#CDA63A'>|</span> Standardization</div>"
   ]
  },
  {
   "cell_type": "code",
   "execution_count": 11,
   "id": "f4924007",
   "metadata": {},
   "outputs": [],
   "source": [
    "ss = StandardScaler().fit(X_train)\n",
    "columns = X_train.columns\n",
    "X_train = pd.DataFrame(ss.transform(X_train), columns = columns)\n",
    "X_test = pd.DataFrame(ss.transform(X_test), columns = columns)"
   ]
  },
  {
   "cell_type": "markdown",
   "id": "5e4663e6",
   "metadata": {},
   "source": [
    "<a id=\"\n",
    "Model-Training\"></a>\n",
    "<div style=\"padding:20px;\n",
    "            color:white;\n",
    "            margin:10;\n",
    "            font-size:170%;\n",
    "            text-align:left;\n",
    "            display:fill;\n",
    "            border-radius:5px;\n",
    "            background-color:#294B8E;\n",
    "            overflow:hidden;\n",
    "            font-weight:700\"><span style='color:#CDA63A'>|</span> \n",
    "Model Training</div>"
   ]
  },
  {
   "cell_type": "markdown",
   "id": "585995a8",
   "metadata": {},
   "source": [
    "### <p style=\"font-family:JetBrains Mono; font-weight:bold; letter-spacing: 2px; color:#294B8E; font-size:140%; text-align:left;padding: 0px; border-bottom: 3px solid #294B8E\">RandomForest</p>"
   ]
  },
  {
   "cell_type": "code",
   "execution_count": 12,
   "id": "33545a7c",
   "metadata": {},
   "outputs": [
    {
     "name": "stderr",
     "output_type": "stream",
     "text": [
      "100%|████████████████████████████████████████████████████████████████████████████████████████████████████████████████████████████████████████████████████████████████████████| 3/3 [00:02<00:00,  1.35it/s]\n"
     ]
    }
   ],
   "source": [
    "best_model_rf = None\n",
    "accuracy_RandomForest = 0\n",
    "best_est = 0\n",
    "best_depth = 0\n",
    "for est in tqdm(range(10, 31, 10)):\n",
    "    for depth in range (1, 51):\n",
    "        model = RandomForestClassifier(random_state=12345, n_estimators=est, max_depth=depth) \n",
    "        model.fit(X_train, y_train)\n",
    "        predicted_valid_RF = model.predict(X_test)\n",
    "        result_rf = accuracy_score(y_test, predicted_valid_RF) \n",
    "        if result_rf > accuracy_RandomForest:\n",
    "            best_model_rf = model\n",
    "            accuracy_RandomForest = result_rf\n",
    "            best_est = est\n",
    "            best_depth = depth\n"
   ]
  },
  {
   "cell_type": "code",
   "execution_count": 13,
   "id": "9dd91844",
   "metadata": {},
   "outputs": [],
   "source": [
    "RMSE_RF = sqrt(mean_squared_error(y_test, predicted_valid_RF)) "
   ]
  },
  {
   "cell_type": "markdown",
   "id": "c96cc6e4",
   "metadata": {},
   "source": [
    "### <p style=\"font-family:JetBrains Mono; font-weight:bold; letter-spacing: 2px; color:#294B8E; font-size:140%; text-align:left;padding: 0px; border-bottom: 3px solid #294B8E\">DecisionTree</p>"
   ]
  },
  {
   "cell_type": "code",
   "execution_count": 14,
   "id": "8955c2d7",
   "metadata": {},
   "outputs": [
    {
     "name": "stderr",
     "output_type": "stream",
     "text": [
      "100%|███████████████████████████████████████████████████████████████████████████████████████████████████████████████████████████████████████████████████████████████████| 100/100 [00:00<00:00, 873.80it/s]"
     ]
    },
    {
     "name": "stdout",
     "output_type": "stream",
     "text": [
      "Accuracy лучшей модели: 0.6875 \n",
      "Максимальная глубина: 4\n"
     ]
    },
    {
     "name": "stderr",
     "output_type": "stream",
     "text": [
      "\n"
     ]
    }
   ],
   "source": [
    "best_model_dt = None\n",
    "accuracy_DecisionTree = 0\n",
    "best_depths = 0\n",
    "for depths in tqdm(range (1, 101)):\n",
    "    model = DecisionTreeClassifier(random_state=12345, max_depth=depths) \n",
    "    model.fit(X_train, y_train)\n",
    "    predicted_valid_DT = model.predict(X_test) \n",
    "    result_dt = accuracy_score(y_test, predicted_valid_DT) \n",
    "    if result_dt > accuracy_DecisionTree:\n",
    "        best_model_dt = model\n",
    "        accuracy_DecisionTree = result_dt\n",
    "        best_depths = depths"
   ]
  },
  {
   "cell_type": "code",
   "execution_count": 15,
   "id": "fb2b94b3",
   "metadata": {},
   "outputs": [],
   "source": [
    "RMSE_DT = sqrt(mean_squared_error(y_test, predicted_valid_DT)) "
   ]
  },
  {
   "cell_type": "markdown",
   "id": "93db7376",
   "metadata": {},
   "source": [
    "### <p style=\"font-family:JetBrains Mono; font-weight:bold; letter-spacing: 2px; color:#294B8E; font-size:140%; text-align:left;padding: 0px; border-bottom: 3px solid #294B8E\">Linear Regression</p>"
   ]
  },
  {
   "cell_type": "code",
   "execution_count": 16,
   "id": "08f4974d",
   "metadata": {},
   "outputs": [
    {
     "name": "stdout",
     "output_type": "stream",
     "text": [
      "CPU times: user 2.36 ms, sys: 475 µs, total: 2.83 ms\n",
      "Wall time: 2.68 ms\n"
     ]
    }
   ],
   "source": [
    "%%time \n",
    "model = LinearRegression()\n",
    "model.fit(X_train, y_train)\n",
    "predicted_valid_LR = model.predict(X_test)"
   ]
  },
  {
   "cell_type": "code",
   "execution_count": 17,
   "id": "dc96d72c",
   "metadata": {},
   "outputs": [],
   "source": [
    "RMSE_LR = sqrt(mean_squared_error(y_test, predicted_valid_LR)) "
   ]
  },
  {
   "cell_type": "markdown",
   "id": "cb277d35",
   "metadata": {},
   "source": [
    "### <p style=\"font-family:JetBrains Mono; font-weight:bold; letter-spacing: 2px; color:#294B8E; font-size:140%; text-align:left;padding: 0px; border-bottom: 3px solid #294B8E\">CatBoost</p>"
   ]
  },
  {
   "cell_type": "code",
   "execution_count": 18,
   "id": "7d0d8ee3",
   "metadata": {},
   "outputs": [
    {
     "name": "stdout",
     "output_type": "stream",
     "text": [
      "0:\tlearn: 7.1924156\ttotal: 56.9ms\tremaining: 17s\n",
      "1:\tlearn: 6.6622194\ttotal: 57.1ms\tremaining: 8.51s\n",
      "2:\tlearn: 6.2165678\ttotal: 57.1ms\tremaining: 5.66s\n",
      "3:\tlearn: 5.8131432\ttotal: 57.3ms\tremaining: 4.24s\n",
      "4:\tlearn: 5.4244072\ttotal: 57.5ms\tremaining: 3.39s\n",
      "5:\tlearn: 5.0958375\ttotal: 57.7ms\tremaining: 2.83s\n",
      "6:\tlearn: 4.8677739\ttotal: 57.9ms\tremaining: 2.42s\n",
      "7:\tlearn: 4.5534939\ttotal: 58.1ms\tremaining: 2.12s\n",
      "8:\tlearn: 4.2696808\ttotal: 58.2ms\tremaining: 1.88s\n",
      "9:\tlearn: 4.0295446\ttotal: 58.5ms\tremaining: 1.7s\n",
      "10:\tlearn: 3.8023391\ttotal: 58.8ms\tremaining: 1.54s\n",
      "11:\tlearn: 3.5892744\ttotal: 59.1ms\tremaining: 1.42s\n",
      "12:\tlearn: 3.3710584\ttotal: 59.4ms\tremaining: 1.31s\n",
      "13:\tlearn: 3.1545313\ttotal: 59.4ms\tremaining: 1.21s\n",
      "14:\tlearn: 2.9733795\ttotal: 59.7ms\tremaining: 1.13s\n",
      "15:\tlearn: 2.7964844\ttotal: 60.1ms\tremaining: 1.07s\n",
      "16:\tlearn: 2.7200843\ttotal: 60.2ms\tremaining: 1s\n",
      "17:\tlearn: 2.5500381\ttotal: 60.2ms\tremaining: 944ms\n",
      "18:\tlearn: 2.4041785\ttotal: 60.5ms\tremaining: 894ms\n",
      "19:\tlearn: 2.2703144\ttotal: 60.5ms\tremaining: 847ms\n",
      "20:\tlearn: 2.1375567\ttotal: 60.6ms\tremaining: 805ms\n",
      "21:\tlearn: 2.0314474\ttotal: 60.7ms\tremaining: 768ms\n",
      "22:\tlearn: 1.9399018\ttotal: 60.9ms\tremaining: 734ms\n",
      "23:\tlearn: 1.8335991\ttotal: 61ms\tremaining: 702ms\n",
      "24:\tlearn: 1.7547433\ttotal: 61.1ms\tremaining: 672ms\n",
      "25:\tlearn: 1.6668852\ttotal: 61.2ms\tremaining: 645ms\n",
      "26:\tlearn: 1.5714440\ttotal: 61.4ms\tremaining: 620ms\n",
      "27:\tlearn: 1.4863620\ttotal: 61.5ms\tremaining: 598ms\n",
      "28:\tlearn: 1.4148638\ttotal: 61.7ms\tremaining: 577ms\n",
      "29:\tlearn: 1.3421703\ttotal: 61.9ms\tremaining: 557ms\n",
      "30:\tlearn: 1.2885992\ttotal: 62.1ms\tremaining: 539ms\n",
      "31:\tlearn: 1.2402487\ttotal: 62.4ms\tremaining: 522ms\n",
      "32:\tlearn: 1.1969139\ttotal: 62.5ms\tremaining: 506ms\n",
      "33:\tlearn: 1.1579875\ttotal: 62.6ms\tremaining: 490ms\n",
      "34:\tlearn: 1.1229591\ttotal: 62.7ms\tremaining: 475ms\n",
      "35:\tlearn: 1.0781763\ttotal: 63.1ms\tremaining: 463ms\n",
      "36:\tlearn: 1.0434637\ttotal: 63.2ms\tremaining: 449ms\n",
      "37:\tlearn: 0.9979704\ttotal: 63.3ms\tremaining: 436ms\n",
      "38:\tlearn: 0.9623737\ttotal: 63.5ms\tremaining: 425ms\n",
      "39:\tlearn: 0.9239747\ttotal: 63.9ms\tremaining: 415ms\n",
      "40:\tlearn: 0.8933416\ttotal: 64.1ms\tremaining: 405ms\n",
      "41:\tlearn: 0.8614621\ttotal: 64.5ms\tremaining: 396ms\n",
      "42:\tlearn: 0.8369006\ttotal: 64.7ms\tremaining: 386ms\n",
      "43:\tlearn: 0.8044708\ttotal: 65ms\tremaining: 378ms\n",
      "44:\tlearn: 0.7820377\ttotal: 65ms\tremaining: 369ms\n",
      "45:\tlearn: 0.7516668\ttotal: 65.5ms\tremaining: 362ms\n",
      "46:\tlearn: 0.7233805\ttotal: 65.9ms\tremaining: 355ms\n",
      "47:\tlearn: 0.6963006\ttotal: 66.2ms\tremaining: 348ms\n",
      "48:\tlearn: 0.6704568\ttotal: 66.8ms\tremaining: 342ms\n",
      "49:\tlearn: 0.6456888\ttotal: 67.4ms\tremaining: 337ms\n",
      "50:\tlearn: 0.6214559\ttotal: 67.6ms\tremaining: 330ms\n",
      "51:\tlearn: 0.5982736\ttotal: 67.9ms\tremaining: 324ms\n",
      "52:\tlearn: 0.5762344\ttotal: 68.1ms\tremaining: 317ms\n",
      "53:\tlearn: 0.5542823\ttotal: 68.5ms\tremaining: 312ms\n",
      "54:\tlearn: 0.5339909\ttotal: 68.9ms\tremaining: 307ms\n",
      "55:\tlearn: 0.5138305\ttotal: 69.1ms\tremaining: 301ms\n",
      "56:\tlearn: 0.4945401\ttotal: 69.3ms\tremaining: 296ms\n",
      "57:\tlearn: 0.4766927\ttotal: 69.8ms\tremaining: 291ms\n",
      "58:\tlearn: 0.4593684\ttotal: 70.1ms\tremaining: 286ms\n",
      "59:\tlearn: 0.4426873\ttotal: 70.5ms\tremaining: 282ms\n",
      "60:\tlearn: 0.4268659\ttotal: 71ms\tremaining: 278ms\n",
      "61:\tlearn: 0.4117214\ttotal: 71.2ms\tremaining: 273ms\n",
      "62:\tlearn: 0.3970861\ttotal: 71.5ms\tremaining: 269ms\n",
      "63:\tlearn: 0.3830887\ttotal: 71.8ms\tremaining: 265ms\n",
      "64:\tlearn: 0.3690875\ttotal: 72.2ms\tremaining: 261ms\n",
      "65:\tlearn: 0.3562414\ttotal: 72.6ms\tremaining: 257ms\n",
      "66:\tlearn: 0.3439593\ttotal: 73ms\tremaining: 254ms\n",
      "67:\tlearn: 0.3322182\ttotal: 73.3ms\tremaining: 250ms\n",
      "68:\tlearn: 0.3209963\ttotal: 73.6ms\tremaining: 246ms\n",
      "69:\tlearn: 0.3102730\ttotal: 73.9ms\tremaining: 243ms\n",
      "70:\tlearn: 0.3000285\ttotal: 74.3ms\tremaining: 240ms\n",
      "71:\tlearn: 0.2899436\ttotal: 74.7ms\tremaining: 236ms\n",
      "72:\tlearn: 0.2805581\ttotal: 75ms\tremaining: 233ms\n",
      "73:\tlearn: 0.2713233\ttotal: 75.4ms\tremaining: 230ms\n",
      "74:\tlearn: 0.2619316\ttotal: 75.7ms\tremaining: 227ms\n",
      "75:\tlearn: 0.2534264\ttotal: 76ms\tremaining: 224ms\n",
      "76:\tlearn: 0.2453207\ttotal: 76.4ms\tremaining: 221ms\n",
      "77:\tlearn: 0.2355777\ttotal: 76.7ms\tremaining: 218ms\n",
      "78:\tlearn: 0.2263081\ttotal: 77.1ms\tremaining: 216ms\n",
      "79:\tlearn: 0.2174868\ttotal: 77.3ms\tremaining: 213ms\n",
      "80:\tlearn: 0.2090904\ttotal: 77.7ms\tremaining: 210ms\n",
      "81:\tlearn: 0.2011812\ttotal: 78.2ms\tremaining: 208ms\n",
      "82:\tlearn: 0.1948203\ttotal: 78.5ms\tremaining: 205ms\n",
      "83:\tlearn: 0.1886977\ttotal: 79ms\tremaining: 203ms\n",
      "84:\tlearn: 0.1818557\ttotal: 79.5ms\tremaining: 201ms\n",
      "85:\tlearn: 0.1750131\ttotal: 80ms\tremaining: 199ms\n",
      "86:\tlearn: 0.1695965\ttotal: 80.4ms\tremaining: 197ms\n",
      "87:\tlearn: 0.1639064\ttotal: 80.9ms\tremaining: 195ms\n",
      "88:\tlearn: 0.1578919\ttotal: 81.2ms\tremaining: 193ms\n",
      "89:\tlearn: 0.1521579\ttotal: 81.6ms\tremaining: 190ms\n",
      "90:\tlearn: 0.1466907\ttotal: 81.8ms\tremaining: 188ms\n",
      "91:\tlearn: 0.1414775\ttotal: 82.1ms\tremaining: 186ms\n",
      "92:\tlearn: 0.1365063\ttotal: 82.3ms\tremaining: 183ms\n",
      "93:\tlearn: 0.1313002\ttotal: 82.7ms\tremaining: 181ms\n",
      "94:\tlearn: 0.1263493\ttotal: 83.1ms\tremaining: 179ms\n",
      "95:\tlearn: 0.1219513\ttotal: 83.4ms\tremaining: 177ms\n",
      "96:\tlearn: 0.1174143\ttotal: 83.7ms\tremaining: 175ms\n",
      "97:\tlearn: 0.1134947\ttotal: 84.1ms\tremaining: 173ms\n",
      "98:\tlearn: 0.1095669\ttotal: 84.4ms\tremaining: 171ms\n",
      "99:\tlearn: 0.1055377\ttotal: 84.7ms\tremaining: 169ms\n",
      "100:\tlearn: 0.1019208\ttotal: 84.9ms\tremaining: 167ms\n",
      "101:\tlearn: 0.0985712\ttotal: 85.3ms\tremaining: 166ms\n",
      "102:\tlearn: 0.0950829\ttotal: 85.5ms\tremaining: 164ms\n",
      "103:\tlearn: 0.0916489\ttotal: 85.9ms\tremaining: 162ms\n",
      "104:\tlearn: 0.0887243\ttotal: 86.2ms\tremaining: 160ms\n",
      "105:\tlearn: 0.0858463\ttotal: 86.6ms\tremaining: 159ms\n",
      "106:\tlearn: 0.0831543\ttotal: 87ms\tremaining: 157ms\n",
      "107:\tlearn: 0.0805957\ttotal: 87.3ms\tremaining: 155ms\n",
      "108:\tlearn: 0.0781642\ttotal: 87.7ms\tremaining: 154ms\n",
      "109:\tlearn: 0.0755458\ttotal: 88.1ms\tremaining: 152ms\n",
      "110:\tlearn: 0.0728895\ttotal: 88.7ms\tremaining: 151ms\n",
      "111:\tlearn: 0.0706107\ttotal: 89.2ms\tremaining: 150ms\n",
      "112:\tlearn: 0.0683302\ttotal: 89.5ms\tremaining: 148ms\n",
      "113:\tlearn: 0.0667777\ttotal: 89.7ms\tremaining: 146ms\n",
      "114:\tlearn: 0.0653075\ttotal: 89.9ms\tremaining: 145ms\n",
      "115:\tlearn: 0.0630875\ttotal: 90.2ms\tremaining: 143ms\n",
      "116:\tlearn: 0.0609843\ttotal: 90.6ms\tremaining: 142ms\n",
      "117:\tlearn: 0.0592273\ttotal: 91ms\tremaining: 140ms\n",
      "118:\tlearn: 0.0575641\ttotal: 91.3ms\tremaining: 139ms\n",
      "119:\tlearn: 0.0556627\ttotal: 91.8ms\tremaining: 138ms\n",
      "120:\tlearn: 0.0538879\ttotal: 92.1ms\tremaining: 136ms\n",
      "121:\tlearn: 0.0522413\ttotal: 92.4ms\tremaining: 135ms\n",
      "122:\tlearn: 0.0506557\ttotal: 92.6ms\tremaining: 133ms\n",
      "123:\tlearn: 0.0490425\ttotal: 92.9ms\tremaining: 132ms\n",
      "124:\tlearn: 0.0475778\ttotal: 93.1ms\tremaining: 130ms\n",
      "125:\tlearn: 0.0464225\ttotal: 93.5ms\tremaining: 129ms\n",
      "126:\tlearn: 0.0446851\ttotal: 93.8ms\tremaining: 128ms\n",
      "127:\tlearn: 0.0433076\ttotal: 94.2ms\tremaining: 127ms\n",
      "128:\tlearn: 0.0419982\ttotal: 94.6ms\tremaining: 125ms\n",
      "129:\tlearn: 0.0409022\ttotal: 94.9ms\tremaining: 124ms\n",
      "130:\tlearn: 0.0394045\ttotal: 95.3ms\tremaining: 123ms\n",
      "131:\tlearn: 0.0379830\ttotal: 95.6ms\tremaining: 122ms\n",
      "132:\tlearn: 0.0366339\ttotal: 95.9ms\tremaining: 120ms\n",
      "133:\tlearn: 0.0353536\ttotal: 96.1ms\tremaining: 119ms\n",
      "134:\tlearn: 0.0341387\ttotal: 96.5ms\tremaining: 118ms\n",
      "135:\tlearn: 0.0330053\ttotal: 96.8ms\tremaining: 117ms\n",
      "136:\tlearn: 0.0318929\ttotal: 97.2ms\tremaining: 116ms\n",
      "137:\tlearn: 0.0308478\ttotal: 97.6ms\tremaining: 115ms\n",
      "138:\tlearn: 0.0298300\ttotal: 98ms\tremaining: 113ms\n",
      "139:\tlearn: 0.0288666\ttotal: 98.3ms\tremaining: 112ms\n",
      "140:\tlearn: 0.0279358\ttotal: 98.6ms\tremaining: 111ms\n",
      "141:\tlearn: 0.0274861\ttotal: 98.7ms\tremaining: 110ms\n",
      "142:\tlearn: 0.0266156\ttotal: 99ms\tremaining: 109ms\n",
      "143:\tlearn: 0.0257779\ttotal: 99.4ms\tremaining: 108ms\n",
      "144:\tlearn: 0.0253848\ttotal: 99.5ms\tremaining: 106ms\n",
      "145:\tlearn: 0.0246033\ttotal: 99.8ms\tremaining: 105ms\n",
      "146:\tlearn: 0.0238437\ttotal: 100ms\tremaining: 104ms\n",
      "147:\tlearn: 0.0231668\ttotal: 101ms\tremaining: 103ms\n",
      "148:\tlearn: 0.0228574\ttotal: 101ms\tremaining: 102ms\n",
      "149:\tlearn: 0.0225695\ttotal: 101ms\tremaining: 101ms\n",
      "150:\tlearn: 0.0223016\ttotal: 101ms\tremaining: 99.8ms\n",
      "151:\tlearn: 0.0220520\ttotal: 101ms\tremaining: 98.6ms\n",
      "152:\tlearn: 0.0218195\ttotal: 101ms\tremaining: 97.3ms\n",
      "153:\tlearn: 0.0216028\ttotal: 101ms\tremaining: 96.1ms\n",
      "154:\tlearn: 0.0214009\ttotal: 101ms\tremaining: 94.9ms\n",
      "155:\tlearn: 0.0207407\ttotal: 102ms\tremaining: 93.9ms\n",
      "156:\tlearn: 0.0205581\ttotal: 102ms\tremaining: 92.8ms\n",
      "157:\tlearn: 0.0199369\ttotal: 102ms\tremaining: 91.8ms\n",
      "158:\tlearn: 0.0197718\ttotal: 102ms\tremaining: 90.6ms\n",
      "159:\tlearn: 0.0191210\ttotal: 102ms\tremaining: 89.7ms\n",
      "160:\tlearn: 0.0184652\ttotal: 103ms\tremaining: 88.8ms\n",
      "161:\tlearn: 0.0178914\ttotal: 103ms\tremaining: 87.9ms\n",
      "162:\tlearn: 0.0172899\ttotal: 104ms\tremaining: 87.1ms\n",
      "163:\tlearn: 0.0167616\ttotal: 104ms\tremaining: 86.1ms\n",
      "164:\tlearn: 0.0161647\ttotal: 104ms\tremaining: 85.2ms\n",
      "165:\tlearn: 0.0156766\ttotal: 105ms\tremaining: 84.4ms\n",
      "166:\tlearn: 0.0151835\ttotal: 105ms\tremaining: 83.6ms\n",
      "167:\tlearn: 0.0147153\ttotal: 105ms\tremaining: 82.7ms\n",
      "168:\tlearn: 0.0142203\ttotal: 106ms\tremaining: 81.8ms\n",
      "169:\tlearn: 0.0137660\ttotal: 106ms\tremaining: 80.9ms\n",
      "170:\tlearn: 0.0133708\ttotal: 106ms\tremaining: 80ms\n",
      "171:\tlearn: 0.0129970\ttotal: 106ms\tremaining: 79.2ms\n",
      "172:\tlearn: 0.0126437\ttotal: 107ms\tremaining: 78.6ms\n",
      "173:\tlearn: 0.0123098\ttotal: 108ms\tremaining: 78ms\n",
      "174:\tlearn: 0.0119942\ttotal: 108ms\tremaining: 77.2ms\n",
      "175:\tlearn: 0.0116962\ttotal: 109ms\tremaining: 76.5ms\n",
      "176:\tlearn: 0.0113895\ttotal: 109ms\tremaining: 75.9ms\n",
      "177:\tlearn: 0.0111045\ttotal: 110ms\tremaining: 75.2ms\n",
      "178:\tlearn: 0.0107446\ttotal: 110ms\tremaining: 74.4ms\n",
      "179:\tlearn: 0.0104554\ttotal: 110ms\tremaining: 73.6ms\n",
      "180:\tlearn: 0.0101123\ttotal: 111ms\tremaining: 72.9ms\n",
      "181:\tlearn: 0.0098599\ttotal: 111ms\tremaining: 72.2ms\n",
      "182:\tlearn: 0.0096373\ttotal: 112ms\tremaining: 71.3ms\n",
      "183:\tlearn: 0.0094142\ttotal: 112ms\tremaining: 70.5ms\n",
      "184:\tlearn: 0.0091069\ttotal: 112ms\tremaining: 69.7ms\n",
      "185:\tlearn: 0.0088947\ttotal: 113ms\tremaining: 69ms\n",
      "186:\tlearn: 0.0087072\ttotal: 113ms\tremaining: 68.1ms\n",
      "187:\tlearn: 0.0085182\ttotal: 113ms\tremaining: 67.4ms\n",
      "188:\tlearn: 0.0082455\ttotal: 113ms\tremaining: 66.6ms\n",
      "189:\tlearn: 0.0080735\ttotal: 114ms\tremaining: 65.9ms\n",
      "190:\tlearn: 0.0078207\ttotal: 114ms\tremaining: 65.1ms\n",
      "191:\tlearn: 0.0076642\ttotal: 114ms\tremaining: 64.4ms\n",
      "192:\tlearn: 0.0074396\ttotal: 115ms\tremaining: 63.7ms\n",
      "193:\tlearn: 0.0072274\ttotal: 115ms\tremaining: 63ms\n",
      "194:\tlearn: 0.0070472\ttotal: 116ms\tremaining: 62.4ms\n",
      "195:\tlearn: 0.0068529\ttotal: 116ms\tremaining: 61.6ms\n",
      "196:\tlearn: 0.0066479\ttotal: 116ms\tremaining: 60.9ms\n",
      "197:\tlearn: 0.0064546\ttotal: 117ms\tremaining: 60.2ms\n",
      "198:\tlearn: 0.0062583\ttotal: 117ms\tremaining: 59.4ms\n",
      "199:\tlearn: 0.0060835\ttotal: 117ms\tremaining: 58.7ms\n",
      "200:\tlearn: 0.0059100\ttotal: 118ms\tremaining: 58ms\n",
      "201:\tlearn: 0.0057429\ttotal: 118ms\tremaining: 57.3ms\n",
      "202:\tlearn: 0.0055984\ttotal: 118ms\tremaining: 56.5ms\n",
      "203:\tlearn: 0.0054595\ttotal: 119ms\tremaining: 55.8ms\n",
      "204:\tlearn: 0.0053138\ttotal: 119ms\tremaining: 55.2ms\n",
      "205:\tlearn: 0.0051682\ttotal: 119ms\tremaining: 54.5ms\n",
      "206:\tlearn: 0.0050543\ttotal: 120ms\tremaining: 53.8ms\n",
      "207:\tlearn: 0.0049483\ttotal: 120ms\tremaining: 53.1ms\n",
      "208:\tlearn: 0.0048447\ttotal: 120ms\tremaining: 52.4ms\n",
      "209:\tlearn: 0.0047515\ttotal: 121ms\tremaining: 51.7ms\n",
      "210:\tlearn: 0.0046643\ttotal: 121ms\tremaining: 51.1ms\n",
      "211:\tlearn: 0.0045736\ttotal: 121ms\tremaining: 50.4ms\n",
      "212:\tlearn: 0.0044550\ttotal: 122ms\tremaining: 49.8ms\n",
      "213:\tlearn: 0.0043577\ttotal: 122ms\tremaining: 49.1ms\n",
      "214:\tlearn: 0.0042480\ttotal: 123ms\tremaining: 48.5ms\n",
      "215:\tlearn: 0.0041452\ttotal: 123ms\tremaining: 47.8ms\n",
      "216:\tlearn: 0.0040515\ttotal: 123ms\tremaining: 47.1ms\n",
      "217:\tlearn: 0.0039651\ttotal: 124ms\tremaining: 46.5ms\n",
      "218:\tlearn: 0.0038698\ttotal: 124ms\tremaining: 45.8ms\n",
      "219:\tlearn: 0.0038004\ttotal: 124ms\tremaining: 45.1ms\n",
      "220:\tlearn: 0.0037114\ttotal: 125ms\tremaining: 44.5ms\n",
      "221:\tlearn: 0.0036471\ttotal: 125ms\tremaining: 43.9ms\n",
      "222:\tlearn: 0.0035638\ttotal: 125ms\tremaining: 43.3ms\n",
      "223:\tlearn: 0.0035040\ttotal: 126ms\tremaining: 42.6ms\n",
      "224:\tlearn: 0.0034092\ttotal: 126ms\tremaining: 42ms\n",
      "225:\tlearn: 0.0033534\ttotal: 126ms\tremaining: 41.4ms\n",
      "226:\tlearn: 0.0033013\ttotal: 127ms\tremaining: 40.8ms\n",
      "227:\tlearn: 0.0032296\ttotal: 127ms\tremaining: 40.1ms\n",
      "228:\tlearn: 0.0031833\ttotal: 127ms\tremaining: 39.5ms\n",
      "229:\tlearn: 0.0030932\ttotal: 128ms\tremaining: 38.9ms\n",
      "230:\tlearn: 0.0030499\ttotal: 128ms\tremaining: 38.3ms\n",
      "231:\tlearn: 0.0030095\ttotal: 129ms\tremaining: 37.7ms\n",
      "232:\tlearn: 0.0029234\ttotal: 129ms\tremaining: 37.1ms\n",
      "233:\tlearn: 0.0028728\ttotal: 129ms\tremaining: 36.5ms\n",
      "234:\tlearn: 0.0028367\ttotal: 130ms\tremaining: 35.8ms\n",
      "235:\tlearn: 0.0027824\ttotal: 130ms\tremaining: 35.2ms\n",
      "236:\tlearn: 0.0027504\ttotal: 130ms\tremaining: 34.6ms\n",
      "237:\tlearn: 0.0026686\ttotal: 130ms\tremaining: 34ms\n",
      "238:\tlearn: 0.0025994\ttotal: 131ms\tremaining: 33.4ms\n",
      "239:\tlearn: 0.0025533\ttotal: 131ms\tremaining: 32.7ms\n",
      "240:\tlearn: 0.0025181\ttotal: 131ms\tremaining: 32.2ms\n",
      "241:\tlearn: 0.0024419\ttotal: 132ms\tremaining: 31.6ms\n",
      "242:\tlearn: 0.0024072\ttotal: 132ms\tremaining: 31ms\n",
      "243:\tlearn: 0.0023827\ttotal: 132ms\tremaining: 30.4ms\n",
      "244:\tlearn: 0.0023114\ttotal: 133ms\tremaining: 29.8ms\n",
      "245:\tlearn: 0.0022740\ttotal: 133ms\tremaining: 29.2ms\n",
      "246:\tlearn: 0.0022459\ttotal: 134ms\tremaining: 28.7ms\n",
      "247:\tlearn: 0.0021776\ttotal: 134ms\tremaining: 28.1ms\n",
      "248:\tlearn: 0.0021111\ttotal: 135ms\tremaining: 27.6ms\n",
      "249:\tlearn: 0.0020559\ttotal: 135ms\tremaining: 27ms\n",
      "250:\tlearn: 0.0019950\ttotal: 135ms\tremaining: 26.4ms\n",
      "251:\tlearn: 0.0019448\ttotal: 135ms\tremaining: 25.8ms\n",
      "252:\tlearn: 0.0018879\ttotal: 136ms\tremaining: 25.2ms\n",
      "253:\tlearn: 0.0018530\ttotal: 136ms\tremaining: 24.7ms\n",
      "254:\tlearn: 0.0018201\ttotal: 136ms\tremaining: 24.1ms\n",
      "255:\tlearn: 0.0017668\ttotal: 137ms\tremaining: 23.5ms\n",
      "256:\tlearn: 0.0017272\ttotal: 137ms\tremaining: 22.9ms\n",
      "257:\tlearn: 0.0016982\ttotal: 137ms\tremaining: 22.3ms\n",
      "258:\tlearn: 0.0016686\ttotal: 138ms\tremaining: 21.8ms\n",
      "259:\tlearn: 0.0016443\ttotal: 138ms\tremaining: 21.2ms\n",
      "260:\tlearn: 0.0015949\ttotal: 139ms\tremaining: 20.7ms\n",
      "261:\tlearn: 0.0015698\ttotal: 139ms\tremaining: 20.1ms\n",
      "262:\tlearn: 0.0015230\ttotal: 139ms\tremaining: 19.6ms\n",
      "263:\tlearn: 0.0014768\ttotal: 139ms\tremaining: 19ms\n",
      "264:\tlearn: 0.0014433\ttotal: 140ms\tremaining: 18.4ms\n",
      "265:\tlearn: 0.0014011\ttotal: 140ms\tremaining: 17.9ms\n",
      "266:\tlearn: 0.0013708\ttotal: 140ms\tremaining: 17.4ms\n",
      "267:\tlearn: 0.0013313\ttotal: 141ms\tremaining: 16.8ms\n",
      "268:\tlearn: 0.0012941\ttotal: 141ms\tremaining: 16.2ms\n",
      "269:\tlearn: 0.0012661\ttotal: 141ms\tremaining: 15.7ms\n",
      "270:\tlearn: 0.0012312\ttotal: 142ms\tremaining: 15.2ms\n",
      "271:\tlearn: 0.0012065\ttotal: 142ms\tremaining: 14.6ms\n",
      "272:\tlearn: 0.0011880\ttotal: 142ms\tremaining: 14.1ms\n",
      "273:\tlearn: 0.0011660\ttotal: 142ms\tremaining: 13.5ms\n",
      "274:\tlearn: 0.0011333\ttotal: 143ms\tremaining: 13ms\n",
      "275:\tlearn: 0.0011106\ttotal: 143ms\tremaining: 12.4ms\n",
      "276:\tlearn: 0.0010798\ttotal: 144ms\tremaining: 11.9ms\n",
      "277:\tlearn: 0.0010640\ttotal: 144ms\tremaining: 11.4ms\n",
      "278:\tlearn: 0.0010455\ttotal: 144ms\tremaining: 10.9ms\n",
      "279:\tlearn: 0.0010163\ttotal: 144ms\tremaining: 10.3ms\n",
      "280:\tlearn: 0.0009908\ttotal: 145ms\tremaining: 9.79ms\n",
      "281:\tlearn: 0.0009771\ttotal: 145ms\tremaining: 9.27ms\n",
      "282:\tlearn: 0.0009535\ttotal: 146ms\tremaining: 8.74ms\n",
      "283:\tlearn: 0.0009357\ttotal: 146ms\tremaining: 8.22ms\n",
      "284:\tlearn: 0.0009087\ttotal: 147ms\tremaining: 7.71ms\n",
      "285:\tlearn: 0.0008817\ttotal: 147ms\tremaining: 7.19ms\n",
      "286:\tlearn: 0.0008560\ttotal: 147ms\tremaining: 6.67ms\n",
      "287:\tlearn: 0.0008326\ttotal: 148ms\tremaining: 6.15ms\n",
      "288:\tlearn: 0.0008164\ttotal: 148ms\tremaining: 5.63ms\n",
      "289:\tlearn: 0.0007928\ttotal: 148ms\tremaining: 5.11ms\n",
      "290:\tlearn: 0.0007703\ttotal: 149ms\tremaining: 4.6ms\n",
      "291:\tlearn: 0.0007592\ttotal: 149ms\tremaining: 4.09ms\n",
      "292:\tlearn: 0.0007378\ttotal: 150ms\tremaining: 3.58ms\n",
      "293:\tlearn: 0.0007273\ttotal: 150ms\tremaining: 3.06ms\n",
      "294:\tlearn: 0.0007067\ttotal: 150ms\tremaining: 2.55ms\n",
      "295:\tlearn: 0.0006968\ttotal: 151ms\tremaining: 2.03ms\n",
      "296:\tlearn: 0.0006773\ttotal: 151ms\tremaining: 1.52ms\n",
      "297:\tlearn: 0.0006613\ttotal: 151ms\tremaining: 1.02ms\n",
      "298:\tlearn: 0.0006466\ttotal: 152ms\tremaining: 508us\n",
      "299:\tlearn: 0.0006284\ttotal: 152ms\tremaining: 0us\n"
     ]
    }
   ],
   "source": [
    "cat = CatBoostRegressor(depth=10, iterations=300, learning_rate=0.15)\n",
    "cat.fit(X_train, y_train)\n",
    "predicted_valid_CAT = cat.predict(X_test)"
   ]
  },
  {
   "cell_type": "code",
   "execution_count": 19,
   "id": "53fd1e87",
   "metadata": {},
   "outputs": [],
   "source": [
    "#calculate RMSE\n",
    "RMSE_CAT = sqrt(mean_squared_error(y_test, predicted_valid_CAT)) "
   ]
  },
  {
   "cell_type": "markdown",
   "id": "613dd178",
   "metadata": {},
   "source": [
    "### <p style=\"font-family:JetBrains Mono; font-weight:bold; letter-spacing: 2px; color:#294B8E; font-size:140%; text-align:left;padding: 0px; border-bottom: 3px solid #294B8E\">XGBoost</p>"
   ]
  },
  {
   "cell_type": "code",
   "execution_count": 20,
   "id": "31b4dc9b",
   "metadata": {},
   "outputs": [],
   "source": [
    "xgb = XGBRegressor(random_state=12345, learning_rate=0.1, max_depth=35)\n",
    "xgb.fit(X_train, y_train)\n",
    "predicted_valid_xgb = xgb.predict(X_test)"
   ]
  },
  {
   "cell_type": "code",
   "execution_count": 21,
   "id": "a033782a",
   "metadata": {},
   "outputs": [],
   "source": [
    "#calculate RMSE\n",
    "RMSE_XGB = sqrt(mean_squared_error(y_test, predicted_valid_xgb)) "
   ]
  },
  {
   "cell_type": "markdown",
   "id": "d3061b6e",
   "metadata": {},
   "source": [
    "### <p style=\"font-family:JetBrains Mono; font-weight:bold; letter-spacing: 2px; color:#294B8E; font-size:140%; text-align:left;padding: 0px; border-bottom: 3px solid #294B8E\">LightGBM</p>"
   ]
  },
  {
   "cell_type": "code",
   "execution_count": 22,
   "id": "de368225",
   "metadata": {},
   "outputs": [],
   "source": [
    "ltgb = LGBMRegressor(learning_rate=0.3, max_depth=15)\n",
    "ltgb.fit(X_train, y_train)\n",
    "predicted_valid_ltgb = ltgb.predict(X_test)"
   ]
  },
  {
   "cell_type": "code",
   "execution_count": 23,
   "id": "39505458",
   "metadata": {},
   "outputs": [],
   "source": [
    "#calculate RMSE\n",
    "RMSE_LGBM = sqrt(mean_squared_error(y_test, predicted_valid_ltgb)) "
   ]
  },
  {
   "cell_type": "markdown",
   "id": "c2867906",
   "metadata": {},
   "source": [
    "<a id=\"Model-comparison\"></a>\n",
    "<div style=\"padding:20px;\n",
    "            color:white;\n",
    "            margin:10;\n",
    "            font-size:170%;\n",
    "            text-align:left;\n",
    "            display:fill;\n",
    "            border-radius:5px;\n",
    "            background-color:#294B8E;\n",
    "            overflow:hidden;\n",
    "            font-weight:700\"><span style='color:#CDA63A'>|</span> Model comparison</div>"
   ]
  },
  {
   "cell_type": "code",
   "execution_count": 24,
   "id": "154a3ed6",
   "metadata": {},
   "outputs": [
    {
     "name": "stdout",
     "output_type": "stream",
     "text": [
      "+----+------------------+----------+\n",
      "|    | Models           |     RMSE |\n",
      "|----+------------------+----------|\n",
      "|  0 | XGBoost          | 1.19921  |\n",
      "|  1 | LightGBM         | 5.84509  |\n",
      "|  2 | CatBoost         | 0.851235 |\n",
      "|  3 | Decision Tree    | 1.14564  |\n",
      "|  4 | Random Forest    | 1.14564  |\n",
      "|  5 | Linear Regresion | 3.36452  |\n",
      "+----+------------------+----------+\n"
     ]
    }
   ],
   "source": [
    "data_RMSE={'Models':['XGBoost','LightGBM','CatBoost', 'Decision Tree', 'Random Forest','Linear Regresion'],\n",
    "     'RMSE': [RMSE_XGB, RMSE_LGBM, RMSE_CAT, RMSE_DT, RMSE_RF, RMSE_LR]}\n",
    "df_RMSE=pd.DataFrame(data_RMSE)\n",
    "print(tabulate(df_RMSE, headers='keys', tablefmt='psql'))"
   ]
  },
  {
   "cell_type": "markdown",
   "id": "acdc61a0",
   "metadata": {},
   "source": [
    "<a id=\"Сomparison-of-theoretical,-experimental-and-predicted-data\"></a>\n",
    "<div style=\"padding:20px;\n",
    "            color:white;\n",
    "            margin:10;\n",
    "            font-size:170%;\n",
    "            text-align:left;\n",
    "            display:fill;\n",
    "            border-radius:5px;\n",
    "            background-color:#294B8E;\n",
    "            overflow:hidden;\n",
    "            font-weight:700\"><span style='color:#CDA63A'>|</span> Сomparison of theoretical, experimental and predicted data</div>"
   ]
  },
  {
   "cell_type": "code",
   "execution_count": 25,
   "id": "1c9138f1",
   "metadata": {},
   "outputs": [
    {
     "data": {
      "text/plain": [
       "array([19, 21, 27, 21, 20, 21, 21, 23, 24, 23, 42, 22, 22, 19, 19, 24])"
      ]
     },
     "execution_count": 25,
     "metadata": {},
     "output_type": "execute_result"
    }
   ],
   "source": [
    "y_test = np.array(y_test)"
   ]
  },
  {
   "cell_type": "code",
   "execution_count": 27,
   "id": "b94020e4",
   "metadata": {},
   "outputs": [],
   "source": [
    "grad = []\n",
    "for i in [27, 40, 26, 43, 24, 37, 12, 19, 4, 25, 8, 3, 6, 39, 33, 13]:\n",
    "    grad.append(data.iloc[i,[3]])\n",
    "grad = [8, 9, 26, 8, 9, 10, 12, 16, 26, 14, 41, 16, 15, 6, 7, 19]"
   ]
  },
  {
   "cell_type": "code",
   "execution_count": 29,
   "id": "08b466d3",
   "metadata": {},
   "outputs": [
    {
     "data": {
      "image/png": "[encoded data removed]",
      "text/plain": [
       "<Figure size 640x480 with 1 Axes>"
      ]
     },
     "metadata": {},
     "output_type": "display_data"
    }
   ],
   "source": [
    "plt.plot(y_test, label='experimental data', color='lightseagreen')\n",
    "plt.plot(predicted_valid_CAT, label='predicted data', color='lightpink');\n",
    "plt.plot(grad, label='theoretical data', color='lightsalmon');\n",
    "plt.title('Fig. 1 Comparison of theoretical, experimental \\n and predicted data of the temperature gradient of the lubricating layer')\n",
    "plt.xlabel('Indices')\n",
    "plt.ylabel('Frequency')\n",
    "plt.grid();\n",
    "plt.legend();\n",
    "plt.savefig('images/comparation.png')"
   ]
  }
 ],
 "metadata": {
  "kernelspec": {
   "display_name": "Python 3 (ipykernel)",
   "language": "python",
   "name": "python3"
  },
  "language_info": {
   "codemirror_mode": {
    "name": "ipython",
    "version": 3
   },
   "file_extension": ".py",
   "mimetype": "text/x-python",
   "name": "python",
   "nbconvert_exporter": "python",
   "pygments_lexer": "ipython3",
   "version": "3.9.13"
  },
  "vscode": {
   "interpreter": {
    "hash": "31f2aee4e71d21fbe5cf8b01ff0e069b9275f58929596ceb00d14d90e3e16cd6"
   }
  }
 },
 "nbformat": 4,
 "nbformat_minor": 5
}
