{
 "cells": [
  {
   "cell_type": "code",
   "execution_count": 1,
   "id": "51257405",
   "metadata": {},
   "outputs": [],
   "source": [
    "import os\n",
    "import json\n",
    "import pandas as pd\n",
    "import matplotlib.pyplot as plt\n",
    "from sklearn.model_selection import train_test_split\n",
    "from sklearn.tree import DecisionTreeClassifier\n",
    "from sklearn.ensemble import RandomForestClassifier\n",
    "from sklearn.linear_model import LogisticRegression\n",
    "from sklearn.metrics import accuracy_score, recall_score, precision_score, f1_score, roc_curve, roc_auc_score\n",
    "from sklearn.preprocessing import StandardScaler\n",
    "from sklearn.utils import shuffle\n",
    "from tqdm import tqdm"
   ]
  },
  {
   "cell_type": "code",
   "execution_count": 2,
   "id": "6b9339a1",
   "metadata": {},
   "outputs": [],
   "source": [
    "data = pd.read_excel('fullerene_experiments.xlsx')"
   ]
  },
  {
   "cell_type": "code",
   "execution_count": 3,
   "id": "88eb801e",
   "metadata": {},
   "outputs": [
    {
     "data": {
      "text/html": [
       "<div>\n",
       "<style scoped>\n",
       "    .dataframe tbody tr th:only-of-type {\n",
       "        vertical-align: middle;\n",
       "    }\n",
       "\n",
       "    .dataframe tbody tr th {\n",
       "        vertical-align: top;\n",
       "    }\n",
       "\n",
       "    .dataframe thead th {\n",
       "        text-align: right;\n",
       "    }\n",
       "</style>\n",
       "<table border=\"1\" class=\"dataframe\">\n",
       "  <thead>\n",
       "    <tr style=\"text-align: right;\">\n",
       "      <th></th>\n",
       "      <th>Concentration</th>\n",
       "      <th>Force</th>\n",
       "      <th>Average temperature</th>\n",
       "    </tr>\n",
       "  </thead>\n",
       "  <tbody>\n",
       "    <tr>\n",
       "      <th>0</th>\n",
       "      <td>0.1</td>\n",
       "      <td>72</td>\n",
       "      <td>23.0</td>\n",
       "    </tr>\n",
       "    <tr>\n",
       "      <th>1</th>\n",
       "      <td>0.1</td>\n",
       "      <td>112</td>\n",
       "      <td>25.0</td>\n",
       "    </tr>\n",
       "    <tr>\n",
       "      <th>2</th>\n",
       "      <td>0.1</td>\n",
       "      <td>200</td>\n",
       "      <td>52.0</td>\n",
       "    </tr>\n",
       "    <tr>\n",
       "      <th>3</th>\n",
       "      <td>0.2</td>\n",
       "      <td>72</td>\n",
       "      <td>22.0</td>\n",
       "    </tr>\n",
       "    <tr>\n",
       "      <th>4</th>\n",
       "      <td>0.2</td>\n",
       "      <td>112</td>\n",
       "      <td>24.0</td>\n",
       "    </tr>\n",
       "    <tr>\n",
       "      <th>5</th>\n",
       "      <td>0.2</td>\n",
       "      <td>200</td>\n",
       "      <td>47.0</td>\n",
       "    </tr>\n",
       "    <tr>\n",
       "      <th>6</th>\n",
       "      <td>0.3</td>\n",
       "      <td>72</td>\n",
       "      <td>22.0</td>\n",
       "    </tr>\n",
       "    <tr>\n",
       "      <th>7</th>\n",
       "      <td>0.3</td>\n",
       "      <td>112</td>\n",
       "      <td>24.0</td>\n",
       "    </tr>\n",
       "    <tr>\n",
       "      <th>8</th>\n",
       "      <td>0.3</td>\n",
       "      <td>200</td>\n",
       "      <td>42.0</td>\n",
       "    </tr>\n",
       "    <tr>\n",
       "      <th>9</th>\n",
       "      <td>0.4</td>\n",
       "      <td>72</td>\n",
       "      <td>22.0</td>\n",
       "    </tr>\n",
       "    <tr>\n",
       "      <th>10</th>\n",
       "      <td>0.4</td>\n",
       "      <td>112</td>\n",
       "      <td>24.0</td>\n",
       "    </tr>\n",
       "    <tr>\n",
       "      <th>11</th>\n",
       "      <td>0.4</td>\n",
       "      <td>200</td>\n",
       "      <td>38.0</td>\n",
       "    </tr>\n",
       "    <tr>\n",
       "      <th>12</th>\n",
       "      <td>0.5</td>\n",
       "      <td>72</td>\n",
       "      <td>21.0</td>\n",
       "    </tr>\n",
       "    <tr>\n",
       "      <th>13</th>\n",
       "      <td>0.5</td>\n",
       "      <td>112</td>\n",
       "      <td>24.0</td>\n",
       "    </tr>\n",
       "    <tr>\n",
       "      <th>14</th>\n",
       "      <td>0.5</td>\n",
       "      <td>200</td>\n",
       "      <td>35.0</td>\n",
       "    </tr>\n",
       "    <tr>\n",
       "      <th>15</th>\n",
       "      <td>0.6</td>\n",
       "      <td>72</td>\n",
       "      <td>21.0</td>\n",
       "    </tr>\n",
       "    <tr>\n",
       "      <th>16</th>\n",
       "      <td>0.6</td>\n",
       "      <td>112</td>\n",
       "      <td>23.0</td>\n",
       "    </tr>\n",
       "    <tr>\n",
       "      <th>17</th>\n",
       "      <td>0.6</td>\n",
       "      <td>200</td>\n",
       "      <td>32.0</td>\n",
       "    </tr>\n",
       "    <tr>\n",
       "      <th>18</th>\n",
       "      <td>0.7</td>\n",
       "      <td>72</td>\n",
       "      <td>21.0</td>\n",
       "    </tr>\n",
       "    <tr>\n",
       "      <th>19</th>\n",
       "      <td>0.7</td>\n",
       "      <td>112</td>\n",
       "      <td>23.0</td>\n",
       "    </tr>\n",
       "    <tr>\n",
       "      <th>20</th>\n",
       "      <td>0.7</td>\n",
       "      <td>200</td>\n",
       "      <td>30.0</td>\n",
       "    </tr>\n",
       "    <tr>\n",
       "      <th>21</th>\n",
       "      <td>0.8</td>\n",
       "      <td>72</td>\n",
       "      <td>20.0</td>\n",
       "    </tr>\n",
       "    <tr>\n",
       "      <th>22</th>\n",
       "      <td>0.8</td>\n",
       "      <td>112</td>\n",
       "      <td>23.0</td>\n",
       "    </tr>\n",
       "    <tr>\n",
       "      <th>23</th>\n",
       "      <td>0.8</td>\n",
       "      <td>200</td>\n",
       "      <td>28.0</td>\n",
       "    </tr>\n",
       "    <tr>\n",
       "      <th>24</th>\n",
       "      <td>0.9</td>\n",
       "      <td>72</td>\n",
       "      <td>20.0</td>\n",
       "    </tr>\n",
       "    <tr>\n",
       "      <th>25</th>\n",
       "      <td>0.9</td>\n",
       "      <td>112</td>\n",
       "      <td>23.0</td>\n",
       "    </tr>\n",
       "    <tr>\n",
       "      <th>26</th>\n",
       "      <td>0.9</td>\n",
       "      <td>200</td>\n",
       "      <td>27.0</td>\n",
       "    </tr>\n",
       "    <tr>\n",
       "      <th>27</th>\n",
       "      <td>1.0</td>\n",
       "      <td>72</td>\n",
       "      <td>19.0</td>\n",
       "    </tr>\n",
       "    <tr>\n",
       "      <th>28</th>\n",
       "      <td>1.0</td>\n",
       "      <td>112</td>\n",
       "      <td>23.0</td>\n",
       "    </tr>\n",
       "    <tr>\n",
       "      <th>29</th>\n",
       "      <td>1.0</td>\n",
       "      <td>200</td>\n",
       "      <td>26.0</td>\n",
       "    </tr>\n",
       "    <tr>\n",
       "      <th>30</th>\n",
       "      <td>1.2</td>\n",
       "      <td>72</td>\n",
       "      <td>19.0</td>\n",
       "    </tr>\n",
       "    <tr>\n",
       "      <th>31</th>\n",
       "      <td>1.2</td>\n",
       "      <td>112</td>\n",
       "      <td>21.0</td>\n",
       "    </tr>\n",
       "    <tr>\n",
       "      <th>32</th>\n",
       "      <td>1.2</td>\n",
       "      <td>200</td>\n",
       "      <td>24.0</td>\n",
       "    </tr>\n",
       "    <tr>\n",
       "      <th>33</th>\n",
       "      <td>1.4</td>\n",
       "      <td>72</td>\n",
       "      <td>19.0</td>\n",
       "    </tr>\n",
       "    <tr>\n",
       "      <th>34</th>\n",
       "      <td>1.4</td>\n",
       "      <td>112</td>\n",
       "      <td>21.0</td>\n",
       "    </tr>\n",
       "    <tr>\n",
       "      <th>35</th>\n",
       "      <td>1.4</td>\n",
       "      <td>200</td>\n",
       "      <td>24.0</td>\n",
       "    </tr>\n",
       "    <tr>\n",
       "      <th>36</th>\n",
       "      <td>1.6</td>\n",
       "      <td>72</td>\n",
       "      <td>19.0</td>\n",
       "    </tr>\n",
       "    <tr>\n",
       "      <th>37</th>\n",
       "      <td>1.6</td>\n",
       "      <td>112</td>\n",
       "      <td>21.0</td>\n",
       "    </tr>\n",
       "    <tr>\n",
       "      <th>38</th>\n",
       "      <td>1.6</td>\n",
       "      <td>200</td>\n",
       "      <td>23.6</td>\n",
       "    </tr>\n",
       "    <tr>\n",
       "      <th>39</th>\n",
       "      <td>1.8</td>\n",
       "      <td>72</td>\n",
       "      <td>19.0</td>\n",
       "    </tr>\n",
       "    <tr>\n",
       "      <th>40</th>\n",
       "      <td>1.8</td>\n",
       "      <td>112</td>\n",
       "      <td>21.0</td>\n",
       "    </tr>\n",
       "    <tr>\n",
       "      <th>41</th>\n",
       "      <td>1.8</td>\n",
       "      <td>200</td>\n",
       "      <td>23.0</td>\n",
       "    </tr>\n",
       "    <tr>\n",
       "      <th>42</th>\n",
       "      <td>1.9</td>\n",
       "      <td>72</td>\n",
       "      <td>19.0</td>\n",
       "    </tr>\n",
       "    <tr>\n",
       "      <th>43</th>\n",
       "      <td>1.9</td>\n",
       "      <td>112</td>\n",
       "      <td>21.0</td>\n",
       "    </tr>\n",
       "    <tr>\n",
       "      <th>44</th>\n",
       "      <td>1.9</td>\n",
       "      <td>200</td>\n",
       "      <td>22.0</td>\n",
       "    </tr>\n",
       "    <tr>\n",
       "      <th>45</th>\n",
       "      <td>2.0</td>\n",
       "      <td>72</td>\n",
       "      <td>18.0</td>\n",
       "    </tr>\n",
       "    <tr>\n",
       "      <th>46</th>\n",
       "      <td>2.0</td>\n",
       "      <td>112</td>\n",
       "      <td>21.0</td>\n",
       "    </tr>\n",
       "    <tr>\n",
       "      <th>47</th>\n",
       "      <td>2.0</td>\n",
       "      <td>200</td>\n",
       "      <td>22.0</td>\n",
       "    </tr>\n",
       "  </tbody>\n",
       "</table>\n",
       "</div>"
      ],
      "text/plain": [
       "    Concentration  Force  Average temperature\n",
       "0             0.1     72                 23.0\n",
       "1             0.1    112                 25.0\n",
       "2             0.1    200                 52.0\n",
       "3             0.2     72                 22.0\n",
       "4             0.2    112                 24.0\n",
       "5             0.2    200                 47.0\n",
       "6             0.3     72                 22.0\n",
       "7             0.3    112                 24.0\n",
       "8             0.3    200                 42.0\n",
       "9             0.4     72                 22.0\n",
       "10            0.4    112                 24.0\n",
       "11            0.4    200                 38.0\n",
       "12            0.5     72                 21.0\n",
       "13            0.5    112                 24.0\n",
       "14            0.5    200                 35.0\n",
       "15            0.6     72                 21.0\n",
       "16            0.6    112                 23.0\n",
       "17            0.6    200                 32.0\n",
       "18            0.7     72                 21.0\n",
       "19            0.7    112                 23.0\n",
       "20            0.7    200                 30.0\n",
       "21            0.8     72                 20.0\n",
       "22            0.8    112                 23.0\n",
       "23            0.8    200                 28.0\n",
       "24            0.9     72                 20.0\n",
       "25            0.9    112                 23.0\n",
       "26            0.9    200                 27.0\n",
       "27            1.0     72                 19.0\n",
       "28            1.0    112                 23.0\n",
       "29            1.0    200                 26.0\n",
       "30            1.2     72                 19.0\n",
       "31            1.2    112                 21.0\n",
       "32            1.2    200                 24.0\n",
       "33            1.4     72                 19.0\n",
       "34            1.4    112                 21.0\n",
       "35            1.4    200                 24.0\n",
       "36            1.6     72                 19.0\n",
       "37            1.6    112                 21.0\n",
       "38            1.6    200                 23.6\n",
       "39            1.8     72                 19.0\n",
       "40            1.8    112                 21.0\n",
       "41            1.8    200                 23.0\n",
       "42            1.9     72                 19.0\n",
       "43            1.9    112                 21.0\n",
       "44            1.9    200                 22.0\n",
       "45            2.0     72                 18.0\n",
       "46            2.0    112                 21.0\n",
       "47            2.0    200                 22.0"
      ]
     },
     "execution_count": 3,
     "metadata": {},
     "output_type": "execute_result"
    }
   ],
   "source": [
    "data"
   ]
  },
  {
   "cell_type": "code",
   "execution_count": 4,
   "id": "ed23b4a0",
   "metadata": {},
   "outputs": [
    {
     "name": "stdout",
     "output_type": "stream",
     "text": [
      "<class 'pandas.core.frame.DataFrame'>\n",
      "RangeIndex: 48 entries, 0 to 47\n",
      "Data columns (total 3 columns):\n",
      " #   Column               Non-Null Count  Dtype  \n",
      "---  ------               --------------  -----  \n",
      " 0   Concentration        48 non-null     float64\n",
      " 1   Force                48 non-null     int64  \n",
      " 2   Average temperature  48 non-null     float64\n",
      "dtypes: float64(2), int64(1)\n",
      "memory usage: 1.2 KB\n"
     ]
    }
   ],
   "source": [
    "data.info()"
   ]
  },
  {
   "cell_type": "code",
   "execution_count": 5,
   "id": "a05e2ce1",
   "metadata": {},
   "outputs": [],
   "source": [
    "filename = 'd.json'\n",
    "with open(filename) as f:\n",
    "    r = json.load(f)"
   ]
  },
  {
   "cell_type": "code",
   "execution_count": 6,
   "id": "486f0500",
   "metadata": {},
   "outputs": [],
   "source": [
    "df = pd.DataFrame({'Temperature_gradient': r})"
   ]
  },
  {
   "cell_type": "code",
   "execution_count": 7,
   "id": "83996e97",
   "metadata": {},
   "outputs": [],
   "source": [
    "data['Temperature_gradient'] = df['Temperature_gradient'] "
   ]
  },
  {
   "cell_type": "code",
   "execution_count": 8,
   "id": "a1fefcc9",
   "metadata": {},
   "outputs": [],
   "source": [
    "data['Average temperature'] = data['Average temperature'].astype('int')\n",
    "data['Temperature_gradient'] = data['Temperature_gradient'].astype('int')"
   ]
  },
  {
   "cell_type": "code",
   "execution_count": 9,
   "id": "8f6947ee",
   "metadata": {},
   "outputs": [
    {
     "name": "stdout",
     "output_type": "stream",
     "text": [
      "<class 'pandas.core.frame.DataFrame'>\n",
      "RangeIndex: 48 entries, 0 to 47\n",
      "Data columns (total 4 columns):\n",
      " #   Column                Non-Null Count  Dtype  \n",
      "---  ------                --------------  -----  \n",
      " 0   Concentration         48 non-null     float64\n",
      " 1   Force                 48 non-null     int64  \n",
      " 2   Average temperature   48 non-null     int64  \n",
      " 3   Temperature_gradient  48 non-null     int64  \n",
      "dtypes: float64(1), int64(3)\n",
      "memory usage: 1.6 KB\n"
     ]
    }
   ],
   "source": [
    "data.info()"
   ]
  },
  {
   "cell_type": "code",
   "execution_count": 10,
   "id": "2f20f593",
   "metadata": {},
   "outputs": [],
   "source": [
    "features = data.drop(['Average temperature', 'Temperature_gradient'], axis=1)\n",
    "target = data['Average temperature'] "
   ]
  },
  {
   "cell_type": "code",
   "execution_count": 11,
   "id": "f17cc11e",
   "metadata": {},
   "outputs": [],
   "source": [
    "X_train, X_test, y_train, y_test = train_test_split(features, target, \n",
    "                                                    train_size = 0.67, \n",
    "                                                    random_state=42)"
   ]
  },
  {
   "cell_type": "code",
   "execution_count": 12,
   "id": "33545a7c",
   "metadata": {},
   "outputs": [
    {
     "name": "stderr",
     "output_type": "stream",
     "text": [
      "100%|██████████████████████████████████████████████████████████████████████████████████████████████████████████████████████| 3/3 [00:02<00:00,  1.35it/s]"
     ]
    },
    {
     "name": "stdout",
     "output_type": "stream",
     "text": [
      "Accuracy наилучшей модели на валидационной выборке: 0.6875 \n",
      "Количество деревьев: 10 \n",
      "Максимальная глубина: 3\n"
     ]
    },
    {
     "name": "stderr",
     "output_type": "stream",
     "text": [
      "\n"
     ]
    }
   ],
   "source": [
    "best_model_rf = None\n",
    "accuracy_RandomForest = 0\n",
    "best_est = 0\n",
    "best_depth = 0\n",
    "for est in tqdm(range(10, 31, 10)):\n",
    "    for depth in range (1, 51):\n",
    "        model = RandomForestClassifier(random_state=12345, n_estimators=est, max_depth=depth) \n",
    "        model.fit(X_train, y_train)\n",
    "        predicted_valid = model.predict(X_test)\n",
    "        result_rf = accuracy_score(y_test, predicted_valid) \n",
    "        if result_rf > accuracy_RandomForest:\n",
    "            best_model_rf = model\n",
    "            accuracy_RandomForest = result_rf\n",
    "            best_est = est\n",
    "            best_depth = depth\n",
    "\n",
    "print(\"Accuracy наилучшей модели на валидационной выборке:\", accuracy_RandomForest, '\\n'\n",
    "      \"Количество деревьев:\", best_est,'\\n' \"Максимальная глубина:\", best_depth)\n"
   ]
  },
  {
   "cell_type": "code",
   "execution_count": 13,
   "id": "8955c2d7",
   "metadata": {},
   "outputs": [
    {
     "name": "stderr",
     "output_type": "stream",
     "text": [
      "100%|█████████████████████████████████████████████████████████████████████████████████████████████████████████████████| 100/100 [00:00<00:00, 815.04it/s]"
     ]
    },
    {
     "name": "stdout",
     "output_type": "stream",
     "text": [
      "Accuracy лучшей модели: 0.6875 \n",
      "Максимальная глубина: 4\n"
     ]
    },
    {
     "name": "stderr",
     "output_type": "stream",
     "text": [
      "\n"
     ]
    }
   ],
   "source": [
    "best_model_dt = None\n",
    "accuracy_DecisionTree = 0\n",
    "best_depths = 0\n",
    "for depths in tqdm(range (1, 101)):\n",
    "    model = DecisionTreeClassifier(random_state=12345, max_depth=depths) \n",
    "    model.fit(X_train, y_train)\n",
    "    predicted_valid = model.predict(X_test) \n",
    "    result_dt = accuracy_score(y_test, predicted_valid) \n",
    "    if result_dt > accuracy_DecisionTree:\n",
    "        best_model_dt = model\n",
    "        accuracy_DecisionTree = result_dt\n",
    "        best_depths = depths\n",
    "print(\"Accuracy лучшей модели:\", accuracy_DecisionTree, '\\n'\"Максимальная глубина:\", best_depths)"
   ]
  },
  {
   "cell_type": "code",
   "execution_count": 14,
   "id": "08f4974d",
   "metadata": {},
   "outputs": [
    {
     "name": "stdout",
     "output_type": "stream",
     "text": [
      "Accuracy модели на валидационной выборке: 0.5\n",
      "CPU times: user 117 ms, sys: 4.22 ms, total: 121 ms\n",
      "Wall time: 120 ms\n"
     ]
    },
    {
     "name": "stderr",
     "output_type": "stream",
     "text": [
      "/Users/moonkerimka/opt/anaconda3/lib/python3.9/site-packages/sklearn/linear_model/_logistic.py:814: ConvergenceWarning: lbfgs failed to converge (status=1):\n",
      "STOP: TOTAL NO. of ITERATIONS REACHED LIMIT.\n",
      "\n",
      "Increase the number of iterations (max_iter) or scale the data as shown in:\n",
      "    https://scikit-learn.org/stable/modules/preprocessing.html\n",
      "Please also refer to the documentation for alternative solver options:\n",
      "    https://scikit-learn.org/stable/modules/linear_model.html#logistic-regression\n",
      "  n_iter_i = _check_optimize_result(\n"
     ]
    }
   ],
   "source": [
    "%%time\n",
    "# Оценивание эффективности выполнения алгоритма логистической регрессии \n",
    "model = LogisticRegression(random_state=12345, solver='lbfgs', max_iter=1000)\n",
    "model.fit(X_train, y_train)\n",
    "predicted_valid = model.predict(X_test)\n",
    "accuracy_LogisticRegression = accuracy_score(y_test, predicted_valid) \n",
    "print(\"Accuracy модели на валидационной выборке:\", accuracy_LogisticRegression)"
   ]
  },
  {
   "cell_type": "code",
   "execution_count": 15,
   "id": "7f3ea79b",
   "metadata": {},
   "outputs": [
    {
     "name": "stdout",
     "output_type": "stream",
     "text": [
      "0.6875\n"
     ]
    }
   ],
   "source": [
    "model = RandomForestClassifier(random_state=12345, n_estimators=10, max_depth=3) \n",
    "model.fit(X_train, y_train)\n",
    "predicted_valid = model.predict(X_test)\n",
    "print(accuracy_score(y_test, predicted_valid))"
   ]
  },
  {
   "cell_type": "code",
   "execution_count": 16,
   "id": "75927e2b",
   "metadata": {},
   "outputs": [
    {
     "data": {
      "text/plain": [
       "0     19\n",
       "1     21\n",
       "2     27\n",
       "3     21\n",
       "4     20\n",
       "5     21\n",
       "6     21\n",
       "7     23\n",
       "8     24\n",
       "9     23\n",
       "10    42\n",
       "11    22\n",
       "12    22\n",
       "13    19\n",
       "14    19\n",
       "15    24\n",
       "Name: Average temperature, dtype: int64"
      ]
     },
     "execution_count": 16,
     "metadata": {},
     "output_type": "execute_result"
    }
   ],
   "source": [
    "y_test = y_test.reset_index()\n",
    "y_test['Average temperature']"
   ]
  },
  {
   "cell_type": "code",
   "execution_count": 17,
   "id": "506a2bf4",
   "metadata": {},
   "outputs": [],
   "source": [
    "grad = []\n",
    "for i in [27, 40, 26, 43, 24, 37, 12, 19, 4, 25, 8, 3, 6, 39, 33, 13]:\n",
    "    grad.append(data.iloc[i,[3]])\n",
    "grad = [8, 9, 26, 8, 9, 10, 12, 16, 26, 14, 41, 16, 15, 6, 7, 19]"
   ]
  },
  {
   "cell_type": "code",
   "execution_count": 18,
   "id": "3a546f1d",
   "metadata": {},
   "outputs": [
    {
     "data": {
      "image/png": "[encoded data removed]",
      "text/plain": [
       "<Figure size 640x480 with 1 Axes>"
      ]
     },
     "metadata": {},
     "output_type": "display_data"
    }
   ],
   "source": [
    "plt.plot(y_test['Average temperature'], label='experimental data', color='lightseagreen')\n",
    "plt.plot(predicted_valid, label='predicted data', color='lightpink');\n",
    "plt.plot(grad, label='theoretical data', color='lightsalmon');\n",
    "plt.title('Fig. 1 Comparison of theoretical, experimental \\n and predicted data of the temperature gradient of the lubricating layer')\n",
    "plt.xlabel('Indices')\n",
    "plt.ylabel('Frequency')\n",
    "plt.grid();\n",
    "plt.legend();\n",
    "plt.savefig('images/comparation.png')"
   ]
  }
 ],
 "metadata": {
  "kernelspec": {
   "display_name": "Python 3 (ipykernel)",
   "language": "python",
   "name": "python3"
  },
  "language_info": {
   "codemirror_mode": {
    "name": "ipython",
    "version": 3
   },
   "file_extension": ".py",
   "mimetype": "text/x-python",
   "name": "python",
   "nbconvert_exporter": "python",
   "pygments_lexer": "ipython3",
   "version": "3.9.13"
  }
 },
 "nbformat": 4,
 "nbformat_minor": 5
}
